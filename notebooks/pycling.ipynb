{
 "cells": [
  {
   "cell_type": "markdown",
   "metadata": {},
   "source": [
    "# Cling Magic!\n",
    "First, install the cling magic"
   ]
  },
  {
   "cell_type": "code",
   "execution_count": null,
   "metadata": {},
   "outputs": [],
   "source": [
    "from cling import cling"
   ]
  },
  {
   "cell_type": "markdown",
   "metadata": {},
   "source": [
    "Now you can execute C++ statements, one at a time. Usually, it's a\n",
    "good idea to execute headers by themselves."
   ]
  },
  {
   "cell_type": "code",
   "execution_count": null,
   "metadata": {},
   "outputs": [],
   "source": [
    "%%cling\n",
    "#include <iostream>"
   ]
  },
  {
   "cell_type": "markdown",
   "metadata": {},
   "source": [
    "When you provide a cling magic cell, it starts a background cling interpreter. All subsequent\n",
    "uses of cling magic sends commands to that same interpreter."
   ]
  },
  {
   "cell_type": "code",
   "execution_count": null,
   "metadata": {},
   "outputs": [],
   "source": [
    "%%cling\n",
    "std::cout << \"magic!\" << std::endl;"
   ]
  },
  {
   "cell_type": "markdown",
   "metadata": {},
   "source": [
    "## Communicating between Python and Cling\n",
    "If you define Python variables, you can send them to your c++ code. Anywhere\n",
    "the string {pythonvar} occurs, the C++ code will be replaced with the contents of the Python variable."
   ]
  },
  {
   "cell_type": "code",
   "execution_count": null,
   "metadata": {},
   "outputs": [],
   "source": [
    "foo = \"world\""
   ]
  },
  {
   "cell_type": "code",
   "execution_count": null,
   "metadata": {},
   "outputs": [],
   "source": [
    "%%cling\n",
    "// Note that \"baz\" is not defined by Python, but \"foo\" is.\n",
    "std::cout << \"Hello {foo} {baz}\" << std::endl;"
   ]
  },
  {
   "cell_type": "markdown",
   "metadata": {},
   "source": [
    "You can also communicate from C++ to Python. To do this, provide a variable name\n",
    "on the same line as the \"%%cling\" statement."
   ]
  },
  {
   "cell_type": "code",
   "execution_count": null,
   "metadata": {},
   "outputs": [],
   "source": [
    "%%cling feedback\n",
    "int a;\n",
    "a = 3;"
   ]
  },
  {
   "cell_type": "code",
   "execution_count": null,
   "metadata": {},
   "outputs": [],
   "source": [
    "feedback"
   ]
  },
  {
   "cell_type": "markdown",
   "metadata": {},
   "source": [
    "## Replay\n",
    "It may happen that you kill your session by causing a segfault."
   ]
  },
  {
   "cell_type": "code",
   "execution_count": null,
   "metadata": {},
   "outputs": [],
   "source": [
    "%%cling\n",
    "int *ptr = 0;\n",
    "ptr[0]=1;"
   ]
  },
  {
   "cell_type": "markdown",
   "metadata": {},
   "source": [
    "In this case, you can replay all the commands prior to the segfault."
   ]
  },
  {
   "cell_type": "code",
   "execution_count": null,
   "metadata": {},
   "outputs": [],
   "source": [
    "from cling import replay\n",
    "replay()"
   ]
  },
  {
   "cell_type": "code",
   "execution_count": null,
   "metadata": {},
   "outputs": [],
   "source": [
    "%%cling\n",
    "std::cout << \"a=\" << a << std::endl;"
   ]
  },
  {
   "cell_type": "code",
   "execution_count": null,
   "metadata": {},
   "outputs": [],
   "source": [
    "%%cling --init\n",
    "#include <run_hpx.cpp>\n",
    "#include <functional>"
   ]
  },
  {
   "cell_type": "code",
   "execution_count": null,
   "metadata": {},
   "outputs": [],
   "source": [
    "%%cling\n",
    "hpx::future<int> fib(int n) {\n",
    "    if(n < 2) return hpx::make_ready_future(n);\n",
    "    hpx::future<int> f1 = hpx::async(fib,n-1);\n",
    "    hpx::future<int> f2 = fib(n-2);\n",
    "    return hpx::dataflow(hpx::util::unwrapping([](int f1_, int f2_) {\n",
    "        return f1_+f2_;\n",
    "    }), f1, f2);\n",
    "}\n",
    "run_hpx([](){\n",
    "    int n=10;\n",
    "    std::cout << \"fib(\" << n << \")=\" << fib(n).get() << std::endl;\n",
    "});"
   ]
  },
  {
   "cell_type": "code",
   "execution_count": null,
   "metadata": {},
   "outputs": [],
   "source": [
    "%%cling\n",
    "run_hpx([](){\n",
    "   auto f = hpx::async([](){ return 42; });\n",
    "   std::cout << \"f=\" << f.get() << std::endl;\n",
    "});"
   ]
  },
  {
   "cell_type": "code",
   "execution_count": null,
   "metadata": {},
   "outputs": [],
   "source": [
    "%%cling\n",
    "auto f2 = run_hpx([](){ return hpx::async([](){ return 42; }); });\n",
    "run_hpx([&](){ std::cout << \"f=\" << f2.get() << std::endl; });"
   ]
  },
  {
   "cell_type": "code",
   "execution_count": null,
   "metadata": {},
   "outputs": [],
   "source": []
  }
 ],
 "metadata": {
  "kernelspec": {
   "display_name": "Python 3",
   "language": "python",
   "name": "python3"
  },
  "language_info": {
   "codemirror_mode": {
    "name": "ipython",
    "version": 3
   },
   "file_extension": ".py",
   "mimetype": "text/x-python",
   "name": "python",
   "nbconvert_exporter": "python",
   "pygments_lexer": "ipython3",
   "version": "3.6.8"
  }
 },
 "nbformat": 4,
 "nbformat_minor": 2
}
