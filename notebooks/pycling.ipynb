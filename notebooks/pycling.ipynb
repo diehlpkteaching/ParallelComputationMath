{
 "cells": [
  {
   "cell_type": "markdown",
   "metadata": {},
   "source": [
    "# Cling Magic!\n",
    "First, install the cling magic"
   ]
  },
  {
   "cell_type": "code",
   "execution_count": 1,
   "metadata": {},
   "outputs": [],
   "source": [
    "from cling import cling"
   ]
  },
  {
   "cell_type": "markdown",
   "metadata": {},
   "source": [
    "Now you can execute C++ statements, one at a time. Usually, it's a\n",
    "good idea to execute headers by themselves."
   ]
  },
  {
   "cell_type": "code",
   "execution_count": 2,
   "metadata": {},
   "outputs": [],
   "source": [
    "%%cling\n",
    "#include <iostream>"
   ]
  },
  {
   "cell_type": "markdown",
   "metadata": {},
   "source": [
    "When you provide a cling magic cell, it starts a background cling interpreter. All subsequent\n",
    "uses of cling magic sends commands to that same interpreter."
   ]
  },
  {
   "cell_type": "code",
   "execution_count": 3,
   "metadata": {},
   "outputs": [
    {
     "data": {
      "text/html": [
       "<div style='background: #f8f8ff;'><pre>magic!\n",
       "</pre></div>"
      ],
      "text/plain": [
       "<IPython.core.display.HTML object>"
      ]
     },
     "metadata": {},
     "output_type": "display_data"
    },
    {
     "data": {
      "text/html": [
       "<div style='background: #eeffee;'><pre>\n",
       "(std::basic_ostream&lt;char, std::char_traits&lt;char&gt; &gt;::__ostream_type &amp;) @0x7fa615c61460\n",
       "</pre></div>"
      ],
      "text/plain": [
       "<IPython.core.display.HTML object>"
      ]
     },
     "metadata": {},
     "output_type": "display_data"
    }
   ],
   "source": [
    "%%cling\n",
    "std::cout << \"magic!\" << std::endl;"
   ]
  },
  {
   "cell_type": "markdown",
   "metadata": {},
   "source": [
    "## Communicating between Python and Cling\n",
    "If you define Python variables, you can send them to your c++ code. Anywhere\n",
    "the string {pythonvar} occurs, the C++ code will be replaced with the contents of the Python variable."
   ]
  },
  {
   "cell_type": "code",
   "execution_count": 4,
   "metadata": {},
   "outputs": [],
   "source": [
    "foo = \"world\""
   ]
  },
  {
   "cell_type": "code",
   "execution_count": 5,
   "metadata": {},
   "outputs": [
    {
     "data": {
      "text/html": [
       "<div style='background: #f8f8ff;'><pre>Hello world {baz}\n",
       "</pre></div>"
      ],
      "text/plain": [
       "<IPython.core.display.HTML object>"
      ]
     },
     "metadata": {},
     "output_type": "display_data"
    },
    {
     "data": {
      "text/html": [
       "<div style='background: #eeffee;'><pre>\n",
       "(std::basic_ostream&lt;char, std::char_traits&lt;char&gt; &gt;::__ostream_type &amp;) @0x7fa615c61460\n",
       "</pre></div>"
      ],
      "text/plain": [
       "<IPython.core.display.HTML object>"
      ]
     },
     "metadata": {},
     "output_type": "display_data"
    }
   ],
   "source": [
    "%%cling\n",
    "// Note that \"baz\" is not defined by Python, but \"foo\" is.\n",
    "std::cout << \"Hello {foo} {baz}\" << std::endl;"
   ]
  },
  {
   "cell_type": "markdown",
   "metadata": {},
   "source": [
    "You can also communicate from C++ to Python. To do this, provide a variable name\n",
    "on the same line as the \"%%cling\" statement."
   ]
  },
  {
   "cell_type": "code",
   "execution_count": 6,
   "metadata": {},
   "outputs": [
    {
     "data": {
      "text/html": [
       "<div style='background: #eeffee;'><pre>\n",
       "(int) 3\n",
       "</pre></div>"
      ],
      "text/plain": [
       "<IPython.core.display.HTML object>"
      ]
     },
     "metadata": {},
     "output_type": "display_data"
    }
   ],
   "source": [
    "%%cling feedback\n",
    "int a;\n",
    "a = 3;"
   ]
  },
  {
   "cell_type": "code",
   "execution_count": 7,
   "metadata": {},
   "outputs": [
    {
     "data": {
      "text/plain": [
       "{'out': '', 'err': '', 'type': '\\n(int) 3\\n'}"
      ]
     },
     "execution_count": 7,
     "metadata": {},
     "output_type": "execute_result"
    }
   ],
   "source": [
    "feedback"
   ]
  },
  {
   "cell_type": "markdown",
   "metadata": {},
   "source": [
    "## Replay\n",
    "It may happen that you kill your session by causing a segfault."
   ]
  },
  {
   "cell_type": "code",
   "execution_count": 8,
   "metadata": {},
   "outputs": [
    {
     "data": {
      "text/html": [
       "<div style='background: #f8f8ff;'><pre>\n",
       "Segfault or Fatal error</pre></div>"
      ],
      "text/plain": [
       "<IPython.core.display.HTML object>"
      ]
     },
     "metadata": {},
     "output_type": "display_data"
    },
    {
     "data": {
      "text/html": [
       "<div style='background: #ffcccc;'><pre>\n",
       "Segfault or Fatal error</pre></div>"
      ],
      "text/plain": [
       "<IPython.core.display.HTML object>"
      ]
     },
     "metadata": {},
     "output_type": "display_data"
    }
   ],
   "source": [
    "%%cling\n",
    "int *ptr = 0;\n",
    "ptr[0]=1;"
   ]
  },
  {
   "cell_type": "markdown",
   "metadata": {},
   "source": [
    "In this case, you can replay all the commands prior to the segfault."
   ]
  },
  {
   "cell_type": "code",
   "execution_count": 9,
   "metadata": {},
   "outputs": [
    {
     "data": {
      "text/html": [
       "<div style='background: #eeeeee;'><pre>replaying: #include &lt;iostream&gt;\n",
       "</pre></div>"
      ],
      "text/plain": [
       "<IPython.core.display.HTML object>"
      ]
     },
     "metadata": {},
     "output_type": "display_data"
    },
    {
     "data": {
      "text/html": [
       "<div style='background: #eeeeee;'><pre>replaying: std::cout &lt;&lt; &quot;magic!&quot; &lt;&lt; std::endl;\n",
       "</pre></div>"
      ],
      "text/plain": [
       "<IPython.core.display.HTML object>"
      ]
     },
     "metadata": {},
     "output_type": "display_data"
    },
    {
     "data": {
      "text/html": [
       "<div style='background: #f8f8ff;'><pre>magic!\n",
       "</pre></div>"
      ],
      "text/plain": [
       "<IPython.core.display.HTML object>"
      ]
     },
     "metadata": {},
     "output_type": "display_data"
    },
    {
     "data": {
      "text/html": [
       "<div style='background: #eeeeee;'><pre>replaying: // Note that &quot;baz&quot; is not defined by Python, but &quot;foo&quot; is.\n",
       "std::cout &lt;&lt; &quot;Hello world {baz}&quot; &lt;&lt; std::endl;\n",
       "</pre></div>"
      ],
      "text/plain": [
       "<IPython.core.display.HTML object>"
      ]
     },
     "metadata": {},
     "output_type": "display_data"
    },
    {
     "data": {
      "text/html": [
       "<div style='background: #f8f8ff;'><pre>Hello world {baz}\n",
       "</pre></div>"
      ],
      "text/plain": [
       "<IPython.core.display.HTML object>"
      ]
     },
     "metadata": {},
     "output_type": "display_data"
    },
    {
     "data": {
      "text/html": [
       "<div style='background: #eeeeee;'><pre>replaying: int a;\n",
       "a = 3;\n",
       "</pre></div>"
      ],
      "text/plain": [
       "<IPython.core.display.HTML object>"
      ]
     },
     "metadata": {},
     "output_type": "display_data"
    }
   ],
   "source": [
    "from cling import replay\n",
    "replay()"
   ]
  },
  {
   "cell_type": "code",
   "execution_count": 10,
   "metadata": {},
   "outputs": [
    {
     "data": {
      "text/html": [
       "<div style='background: #f8f8ff;'><pre>a=3\n",
       "</pre></div>"
      ],
      "text/plain": [
       "<IPython.core.display.HTML object>"
      ]
     },
     "metadata": {},
     "output_type": "display_data"
    },
    {
     "data": {
      "text/html": [
       "<div style='background: #eeffee;'><pre>\n",
       "(std::basic_ostream&lt;char, std::char_traits&lt;char&gt; &gt;::__ostream_type &amp;) @0x7fdfc2235460\n",
       "</pre></div>"
      ],
      "text/plain": [
       "<IPython.core.display.HTML object>"
      ]
     },
     "metadata": {},
     "output_type": "display_data"
    }
   ],
   "source": [
    "%%cling\n",
    "std::cout << \"a=\" << a << std::endl;"
   ]
  },
  {
   "cell_type": "code",
   "execution_count": 11,
   "metadata": {},
   "outputs": [
    {
     "data": {
      "text/html": [
       "<div style='background: #ffcccc;'><pre>IncrementalExecutor::executeFunction: symbol &#x27;__emutls_v._ZSt11__once_call&#x27; unresolved while linking function &#x27;__cxx_global_var_initcling_module_1_.25&#x27;!\n",
       "IncrementalExecutor::executeFunction: symbol &#x27;__emutls_v._ZSt15__once_callable&#x27; unresolved while linking function &#x27;__cxx_global_var_initcling_module_1_.25&#x27;!\n",
       "</pre></div>"
      ],
      "text/plain": [
       "<IPython.core.display.HTML object>"
      ]
     },
     "metadata": {},
     "output_type": "display_data"
    }
   ],
   "source": [
    "%%cling --init\n",
    "#include <run_hpx.cpp>\n",
    "#include <functional>"
   ]
  },
  {
   "cell_type": "code",
   "execution_count": 12,
   "metadata": {},
   "outputs": [
    {
     "data": {
      "text/html": [
       "<div style='background: #f8f8ff;'><pre>fib(10)=55\n",
       "</pre></div>"
      ],
      "text/plain": [
       "<IPython.core.display.HTML object>"
      ]
     },
     "metadata": {},
     "output_type": "display_data"
    },
    {
     "data": {
      "text/html": [
       "<div style='background: #eeffee;'><pre>\n",
       "(void) @0x7ffdebd11b58\n",
       "</pre></div>"
      ],
      "text/plain": [
       "<IPython.core.display.HTML object>"
      ]
     },
     "metadata": {},
     "output_type": "display_data"
    }
   ],
   "source": [
    "%%cling\n",
    "hpx::future<int> fib(int n) {\n",
    "    if(n < 2) return hpx::make_ready_future(n);\n",
    "    hpx::future<int> f1 = hpx::async(fib,n-1);\n",
    "    hpx::future<int> f2 = fib(n-2);\n",
    "    return hpx::dataflow(hpx::util::unwrapping([](int f1_, int f2_) {\n",
    "        return f1_+f2_;\n",
    "    }), f1, f2);\n",
    "}\n",
    "run_hpx([](){\n",
    "    int n=10;\n",
    "    std::cout << \"fib(\" << n << \")=\" << fib(n).get() << std::endl;\n",
    "});"
   ]
  },
  {
   "cell_type": "code",
   "execution_count": 13,
   "metadata": {},
   "outputs": [
    {
     "data": {
      "text/html": [
       "<div style='background: #f8f8ff;'><pre>f=42\n",
       "</pre></div>"
      ],
      "text/plain": [
       "<IPython.core.display.HTML object>"
      ]
     },
     "metadata": {},
     "output_type": "display_data"
    },
    {
     "data": {
      "text/html": [
       "<div style='background: #eeffee;'><pre>\n",
       "(void) @0x7ffdebd11b58\n",
       "</pre></div>"
      ],
      "text/plain": [
       "<IPython.core.display.HTML object>"
      ]
     },
     "metadata": {},
     "output_type": "display_data"
    }
   ],
   "source": [
    "%%cling\n",
    "run_hpx([](){\n",
    "   auto f = hpx::async([](){ return 42; });\n",
    "   std::cout << \"f=\" << f.get() << std::endl;\n",
    "});"
   ]
  },
  {
   "cell_type": "code",
   "execution_count": 14,
   "metadata": {},
   "outputs": [
    {
     "data": {
      "text/html": [
       "<div style='background: #f8f8ff;'><pre>f=42\n",
       "</pre></div>"
      ],
      "text/plain": [
       "<IPython.core.display.HTML object>"
      ]
     },
     "metadata": {},
     "output_type": "display_data"
    },
    {
     "data": {
      "text/html": [
       "<div style='background: #eeffee;'><pre>\n",
       "(void) @0x7ffdebd11b58\n",
       "</pre></div>"
      ],
      "text/plain": [
       "<IPython.core.display.HTML object>"
      ]
     },
     "metadata": {},
     "output_type": "display_data"
    }
   ],
   "source": [
    "%%cling\n",
    "auto f2 = run_hpx([](){ return hpx::async([](){ return 42; }); });\n",
    "run_hpx([&](){ std::cout << \"f=\" << f2.get() << std::endl; });"
   ]
  },
  {
   "cell_type": "code",
   "execution_count": null,
   "metadata": {},
   "outputs": [],
   "source": [
    "%%cling --init\n",
    "#include <run_hpx.cpp>"
   ]
  },
  {
   "cell_type": "code",
   "execution_count": null,
   "metadata": {},
   "outputs": [],
   "source": [
    "%%cling\n",
    "\n",
    "int foo() {\n",
    "    auto f = hpx::async([](){\n",
    "        return 42;\n",
    "    });\n",
    "    int fv = f.get();\n",
    "    std::cout << \"f=\" << fv << std::endl;\n",
    "    return fv;\n",
    "}"
   ]
  },
  {
   "cell_type": "code",
   "execution_count": null,
   "metadata": {},
   "outputs": [],
   "source": [
    "%%cling\n",
    "\n",
    "\n",
    "int bar() {\n",
    "    int r = run_hpx(foo);\n",
    "    std::cout << \"r=\" << r << std::endl;\n",
    "    return 0;\n",
    "}"
   ]
  },
  {
   "cell_type": "code",
   "execution_count": null,
   "metadata": {},
   "outputs": [],
   "source": [
    "%%cling\n",
    "bar();"
   ]
  },
  {
   "cell_type": "code",
   "execution_count": null,
   "metadata": {},
   "outputs": [],
   "source": []
  }
 ],
 "metadata": {
  "kernelspec": {
   "display_name": "Python 3",
   "language": "python",
   "name": "python3"
  },
  "language_info": {
   "codemirror_mode": {
    "name": "ipython",
    "version": 3
   },
   "file_extension": ".py",
   "mimetype": "text/x-python",
   "name": "python",
   "nbconvert_exporter": "python",
   "pygments_lexer": "ipython3",
   "version": "3.6.8"
  }
 },
 "nbformat": 4,
 "nbformat_minor": 2
}
