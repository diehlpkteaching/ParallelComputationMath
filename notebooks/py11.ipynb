{
 "cells": [
  {
   "cell_type": "markdown",
   "metadata": {},
   "source": [
    "# First, import the py11 module\n",
    "\n",
    "The underlying technology that makes this work on pybind11 (https://github.com/pybind/pybind11)\n",
    "\n",
    "It compiles individual functions in C++ to provide an more dynamic approach to C++ programming.\n",
    "\n",
    "First step, import the following symbols..."
   ]
  },
  {
   "cell_type": "code",
   "execution_count": null,
   "metadata": {},
   "outputs": [],
   "source": [
    "from py11 import py11, smap, svec"
   ]
  },
  {
   "cell_type": "markdown",
   "metadata": {},
   "source": [
    "To create a C++ function that's callable from Python, use the @py11 decorator and\n",
    "put your code in the docstring. You\n",
    "can supply it with a list of headers needed. You can modify the source and\n",
    "re-execute the cell if you want different output."
   ]
  },
  {
   "cell_type": "code",
   "execution_count": null,
   "metadata": {},
   "outputs": [],
   "source": [
    "@py11(headers=['<iostream>'])\n",
    "def hello():\n",
    "    \"\"\"\n",
    "    std::cout << \"Hello, world\" << std::endl;\n",
    "    std::cerr << \"Goodbye, world\" << std::endl;\n",
    "    \"\"\""
   ]
  },
  {
   "cell_type": "markdown",
   "metadata": {},
   "source": [
    "We can now call this function directly from Python. It won't recompile again unless we change the source code."
   ]
  },
  {
   "cell_type": "code",
   "execution_count": null,
   "metadata": {},
   "outputs": [],
   "source": [
    "hello()"
   ]
  },
  {
   "cell_type": "markdown",
   "metadata": {},
   "source": [
    "We can pass arguments to the function and receive arguments back. To do this, we use\n",
    "Python's syntax for declaring types."
   ]
  },
  {
   "cell_type": "code",
   "execution_count": null,
   "metadata": {},
   "outputs": [],
   "source": [
    "@py11()\n",
    "def sumi(a : int,b : int)->int:\n",
    "    \"\"\"\n",
    "    // add 2 args\n",
    "    return a+b;\n",
    "    \"\"\""
   ]
  },
  {
   "cell_type": "code",
   "execution_count": null,
   "metadata": {},
   "outputs": [],
   "source": [
    "sumi(20,22)"
   ]
  },
  {
   "cell_type": "markdown",
   "metadata": {},
   "source": [
    "Static variables can be used to remember state."
   ]
  },
  {
   "cell_type": "code",
   "execution_count": null,
   "metadata": {},
   "outputs": [],
   "source": [
    "@py11()\n",
    "def count()->int:\n",
    "    \"\"\"\n",
    "    static int counter = 0; // remember state\n",
    "    return counter++;\n",
    "    \"\"\""
   ]
  },
  {
   "cell_type": "code",
   "execution_count": null,
   "metadata": {},
   "outputs": [],
   "source": [
    "for i in range(5):\n",
    "    print(count())"
   ]
  },
  {
   "cell_type": "markdown",
   "metadata": {},
   "source": [
    "If you want to pass a more complex data structure, like an std::vector, use svec."
   ]
  },
  {
   "cell_type": "code",
   "execution_count": null,
   "metadata": {},
   "outputs": [],
   "source": [
    "@py11(headers=[\"<vector>\"])\n",
    "def sumv(v : svec[int])->int:\n",
    "    \"\"\"\n",
    "    int sum=0;\n",
    "    for(auto i=v.begin(); i != v.end(); ++i)\n",
    "        sum += *i;\n",
    "    return sum;\n",
    "    \"\"\""
   ]
  },
  {
   "cell_type": "code",
   "execution_count": null,
   "metadata": {},
   "outputs": [],
   "source": [
    "sumv([1,2,3,4])"
   ]
  },
  {
   "cell_type": "markdown",
   "metadata": {},
   "source": [
    "Something similar works for maps..."
   ]
  },
  {
   "cell_type": "code",
   "execution_count": null,
   "metadata": {},
   "outputs": [],
   "source": [
    "@py11(header=['<map>'],recompile=True)\n",
    "def summ(m : smap[str,int])->int:\n",
    "    \"\"\"\n",
    "    int sum = 0;\n",
    "    for(auto i=m.begin();i != m.end();++i) {\n",
    "        sum += i->second;\n",
    "    }\n",
    "    return sum;\n",
    "    \"\"\"\n",
    "\n",
    "print(summ({\"a\":3,\"b\":10}))"
   ]
  },
  {
   "cell_type": "markdown",
   "metadata": {},
   "source": [
    "It is possible to use pybind11 to throw an exception from C++ into Python."
   ]
  },
  {
   "cell_type": "code",
   "execution_count": null,
   "metadata": {},
   "outputs": [],
   "source": [
    "@py11()\n",
    "def get_and_set(k : str, v : int, p : bool)->int:\n",
    "    \"\"\"\n",
    "    static std::map<std::string,int> dict;\n",
    "    if(!p)\n",
    "        if(dict.find(k) == dict.end())\n",
    "            throw py::key_error(k);\n",
    "    int r = dict[k];\n",
    "    if(p)dict[k] = v;\n",
    "    return r;\n",
    "        \n",
    "    \"\"\""
   ]
  },
  {
   "cell_type": "code",
   "execution_count": null,
   "metadata": {},
   "outputs": [],
   "source": [
    "get_and_set(\"a\",3,True)"
   ]
  },
  {
   "cell_type": "code",
   "execution_count": null,
   "metadata": {},
   "outputs": [],
   "source": [
    "get_and_set(\"a\",0,False)"
   ]
  },
  {
   "cell_type": "code",
   "execution_count": null,
   "metadata": {},
   "outputs": [],
   "source": [
    "get_and_set(\"b\",0,False)"
   ]
  },
  {
   "cell_type": "markdown",
   "metadata": {},
   "source": [
    "Recursion works..."
   ]
  },
  {
   "cell_type": "code",
   "execution_count": null,
   "metadata": {},
   "outputs": [],
   "source": [
    "@py11()\n",
    "def fib(n : int)->int:\n",
    "    \"\"\"\n",
    "    if(n < 2) return n;\n",
    "    return fib(n-1)+fib(n-2);\n",
    "    \"\"\""
   ]
  },
  {
   "cell_type": "markdown",
   "metadata": {},
   "source": [
    "If we define a Python version of this same function, we can run a benchmark..."
   ]
  },
  {
   "cell_type": "code",
   "execution_count": null,
   "metadata": {},
   "outputs": [],
   "source": [
    "def fib2(n):\n",
    "    if n < 2:\n",
    "        return n\n",
    "    return fib2(n-1)+fib2(n-2)"
   ]
  },
  {
   "cell_type": "code",
   "execution_count": null,
   "metadata": {},
   "outputs": [],
   "source": [
    "def timer(fun,*args):\n",
    "    from time import time\n",
    "    t1 = time()\n",
    "    fun(*args)\n",
    "    t2 = time()\n",
    "    print(\"time:\",t2-t1)"
   ]
  },
  {
   "cell_type": "markdown",
   "metadata": {},
   "source": [
    "You should find that fib is much faster than fib2."
   ]
  },
  {
   "cell_type": "code",
   "execution_count": null,
   "metadata": {},
   "outputs": [],
   "source": [
    "timer(fib,34)\n",
    "timer(fib2,34)"
   ]
  },
  {
   "cell_type": "markdown",
   "metadata": {},
   "source": [
    "If we want to call one @py11() function from another, we can. However, we need to specify what\n",
    "we are doing by means of the funs parameter."
   ]
  },
  {
   "cell_type": "code",
   "execution_count": null,
   "metadata": {},
   "outputs": [],
   "source": [
    "@py11(funs=[fib])\n",
    "def print_fib(n:int)->None:\n",
    "    \"\"\"\n",
    "    std::cout << \"fib(\" << n << \") = \" << fib(n) << std::endl;\n",
    "    \"\"\""
   ]
  },
  {
   "cell_type": "code",
   "execution_count": null,
   "metadata": {},
   "outputs": [],
   "source": [
    "print_fib(15)"
   ]
  },
  {
   "cell_type": "markdown",
   "metadata": {},
   "source": [
    "Note that if we redefine fib, print_fib() will automatically\n",
    "update to use the new version."
   ]
  },
  {
   "cell_type": "code",
   "execution_count": null,
   "metadata": {},
   "outputs": [],
   "source": [
    "@py11()\n",
    "def fib(n : int)->int:\n",
    "    \"\"\"\n",
    "    if(n < 0) return n;\n",
    "    return fib(n-1)+fib(n-2);\n",
    "    \"\"\""
   ]
  },
  {
   "cell_type": "code",
   "execution_count": null,
   "metadata": {},
   "outputs": [],
   "source": [
    "print_fib(15)"
   ]
  },
  {
   "cell_type": "markdown",
   "metadata": {},
   "source": [
    "If we want to change the compile flags, we can."
   ]
  },
  {
   "cell_type": "code",
   "execution_count": null,
   "metadata": {},
   "outputs": [],
   "source": [
    "from py11 import py11, create_type, set_flags\n",
    "\n",
    "# Set the compile flags\n",
    "set_flags(\"-std=c++17 -L/usr/local/lib64 -lhpx\")\n",
    "\n",
    "# Create your own types\n",
    "create_type(\"func\",\"std::function<void()>\")"
   ]
  },
  {
   "cell_type": "markdown",
   "metadata": {},
   "source": [
    "Sometimes you need to set the LD_LIBRARY_PATH"
   ]
  },
  {
   "cell_type": "code",
   "execution_count": null,
   "metadata": {},
   "outputs": [],
   "source": [
    "import os\n",
    "os.environ[\"LD_LIBRARY_PATH\"]=\"/usr/local/lib64\""
   ]
  },
  {
   "cell_type": "markdown",
   "metadata": {},
   "source": [
    "HPX is an advanced parallel threading library. However, to use it, you have to have a\n",
    "special threading environment. To make this work, we will create a \"wrapper function.\"\n",
    "This function needs to take a std::function<void()> as an input argument."
   ]
  },
  {
   "cell_type": "code",
   "execution_count": null,
   "metadata": {},
   "outputs": [],
   "source": [
    "@py11(headers=[\"<run_hpx.cpp>\"])\n",
    "def hpx_wrapper(f : func)->None:\n",
    "    \"\"\"\n",
    "    const char *num = getenv(\"HPX_NUM_THREADS\");\n",
    "    int num_threads = num == 0 ? 4 : atoi(num);\n",
    "    std::cout << \"Using \" << num_threads << \" threads.\" << std::endl;\n",
    "    hpx_global::submit_work(num_threads,f);\n",
    "    \"\"\""
   ]
  },
  {
   "cell_type": "code",
   "execution_count": null,
   "metadata": {},
   "outputs": [],
   "source": [
    "@py11(headers=[\"<hpx/hpx.hpp>\"],recompile=True,wrap=hpx_wrapper)\n",
    "def do_fut()->None:\n",
    "    \"\"\"\n",
    "    auto f = hpx::async([](){ return 3; });\n",
    "    std::cout << \"f=\" << f.get() << std::endl;\n",
    "    \"\"\""
   ]
  },
  {
   "cell_type": "code",
   "execution_count": null,
   "metadata": {},
   "outputs": [],
   "source": [
    "do_fut()"
   ]
  },
  {
   "cell_type": "code",
   "execution_count": null,
   "metadata": {},
   "outputs": [],
   "source": [
    "create_type(\"future\",\"hpx::future\",is_template=True)"
   ]
  },
  {
   "cell_type": "code",
   "execution_count": null,
   "metadata": {
    "scrolled": true
   },
   "outputs": [],
   "source": [
    "@py11(headers=[\"<hpx/hpx.hpp>\"],recompile=True,wrap=hpx_wrapper)\n",
    "def hpx_fib(n : int)->int:\n",
    "    \"\"\"\n",
    "    if(n < 2)\n",
    "        return n;\n",
    "    if(n < 25)\n",
    "        return hpx_fib(n-1)+hpx_fib(n-2);\n",
    "    hpx::future<int> f1 = hpx::async(hpx_fib,n-1);\n",
    "    int f2 = hpx_fib(n-2);\n",
    "    return f1.get() + f2;\n",
    "    \"\"\""
   ]
  },
  {
   "cell_type": "code",
   "execution_count": null,
   "metadata": {},
   "outputs": [],
   "source": [
    "nfib = 34\n",
    "(hpx_fib(nfib), fib2(nfib))"
   ]
  },
  {
   "cell_type": "code",
   "execution_count": null,
   "metadata": {},
   "outputs": [],
   "source": [
    "nfib = 34\n",
    "timer(hpx_fib,nfib)\n",
    "timer(fib2,    nfib)"
   ]
  },
  {
   "cell_type": "code",
   "execution_count": null,
   "metadata": {},
   "outputs": [],
   "source": [
    "def timer2(fun,args,zargs):\n",
    "    from time import time\n",
    "    t1 = time()\n",
    "    fun(*args)\n",
    "    t2 = time()\n",
    "    fun(*zargs)\n",
    "    t3 = time()\n",
    "    \n",
    "    del1 = t2-t1 # time with args\n",
    "    del2 = t3-t2 # time with zargs\n",
    "    \n",
    "    delt = del1 - del2\n",
    "    print(\"time:\",delt)"
   ]
  },
  {
   "cell_type": "code",
   "execution_count": null,
   "metadata": {},
   "outputs": [],
   "source": [
    "nfib = 34\n",
    "timer2(hpx_fib,[nfib],[1])\n",
    "timer2(fib2,   [nfib],[1])"
   ]
  },
  {
   "cell_type": "markdown",
   "metadata": {},
   "source": [
    "Sometimes calling C++ can kill the notebook kernel. To avoid that problem, we can run in a thread."
   ]
  },
  {
   "cell_type": "code",
   "execution_count": null,
   "metadata": {},
   "outputs": [],
   "source": [
    "def run_fork(f,*args):\n",
    "    import os\n",
    "    pid = os.fork()\n",
    "    if pid==0:\n",
    "        f(*args)\n",
    "        os._exit(0)\n",
    "    else:\n",
    "        while True:\n",
    "            wpid, wstatus = os.wait()\n",
    "            if wpid == pid:\n",
    "                if wstatus == 0:\n",
    "                    pass\n",
    "                print(\"status:\",wstatus)\n",
    "                return"
   ]
  },
  {
   "cell_type": "code",
   "execution_count": null,
   "metadata": {},
   "outputs": [],
   "source": [
    "@py11()\n",
    "def segv():\n",
    "    \"\"\"\n",
    "    int *i=0;\n",
    "    i[0]=1;\n",
    "    \"\"\""
   ]
  },
  {
   "cell_type": "code",
   "execution_count": null,
   "metadata": {},
   "outputs": [],
   "source": [
    "run_fork(segv)"
   ]
  },
  {
   "cell_type": "code",
   "execution_count": null,
   "metadata": {},
   "outputs": [],
   "source": []
  }
 ],
 "metadata": {
  "kernelspec": {
   "display_name": "Python 3",
   "language": "python",
   "name": "python3"
  },
  "language_info": {
   "codemirror_mode": {
    "name": "ipython",
    "version": 3
   },
   "file_extension": ".py",
   "mimetype": "text/x-python",
   "name": "python",
   "nbconvert_exporter": "python",
   "pygments_lexer": "ipython3",
   "version": "3.6.8"
  }
 },
 "nbformat": 4,
 "nbformat_minor": 2
}
