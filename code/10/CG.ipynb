{
 "cells": [
  {
   "cell_type": "code",
   "execution_count": 1,
   "metadata": {},
   "outputs": [],
   "source": [
    "import numpy as np"
   ]
  },
  {
   "cell_type": "code",
   "execution_count": 2,
   "metadata": {},
   "outputs": [],
   "source": [
    "import matplotlib.pyplot as plt"
   ]
  },
  {
   "cell_type": "markdown",
   "metadata": {},
   "source": [
    "## Starting point"
   ]
  },
  {
   "cell_type": "code",
   "execution_count": 3,
   "metadata": {},
   "outputs": [],
   "source": [
    "x0 = np.array([-2,-2])"
   ]
  },
  {
   "cell_type": "markdown",
   "metadata": {},
   "source": [
    "## System"
   ]
  },
  {
   "cell_type": "code",
   "execution_count": 4,
   "metadata": {},
   "outputs": [],
   "source": [
    "b = np.array([2,-8])"
   ]
  },
  {
   "cell_type": "code",
   "execution_count": 5,
   "metadata": {},
   "outputs": [],
   "source": [
    "A = np.array([[3,2],[2,6]])"
   ]
  },
  {
   "cell_type": "code",
   "execution_count": 6,
   "metadata": {},
   "outputs": [
    {
     "data": {
      "text/plain": [
       "array([[3, 2],\n",
       "       [2, 6]])"
      ]
     },
     "execution_count": 6,
     "metadata": {},
     "output_type": "execute_result"
    }
   ],
   "source": [
    "A"
   ]
  },
  {
   "cell_type": "code",
   "execution_count": 7,
   "metadata": {},
   "outputs": [
    {
     "data": {
      "text/plain": [
       "array([ 2, -8])"
      ]
     },
     "execution_count": 7,
     "metadata": {},
     "output_type": "execute_result"
    }
   ],
   "source": [
    "b"
   ]
  },
  {
   "cell_type": "markdown",
   "metadata": {},
   "source": [
    "## Residual"
   ]
  },
  {
   "cell_type": "code",
   "execution_count": 8,
   "metadata": {},
   "outputs": [],
   "source": [
    "def r(x):\n",
    "    return  b- A.dot(x)"
   ]
  },
  {
   "cell_type": "markdown",
   "metadata": {},
   "source": [
    "## Line search"
   ]
  },
  {
   "cell_type": "code",
   "execution_count": 9,
   "metadata": {},
   "outputs": [],
   "source": [
    "def alpha(x):\n",
    "    return (r(x).dot(r(x)))/(r(x).dot(A.dot(r(x))))"
   ]
  },
  {
   "cell_type": "code",
   "execution_count": 14,
   "metadata": {},
   "outputs": [],
   "source": [
    "x = []\n",
    "n = 50\n",
    "x.append(x0 + alpha(x0) * r(x0))\n",
    "for i in range(1,n):\n",
    "    x.append(x[i-1] + alpha(x[i-1])*r(x[i-1]))"
   ]
  },
  {
   "cell_type": "code",
   "execution_count": 15,
   "metadata": {},
   "outputs": [
    {
     "data": {
      "image/png": "[encoded data removed]",
      "text/plain": [
       "<Figure size 432x288 with 1 Axes>"
      ]
     },
     "metadata": {
      "needs_background": "light"
     },
     "output_type": "display_data"
    }
   ],
   "source": [
    "plt.plot([row[0] for row in x],[row[1] for row in x],marker=\"+\")\n",
    "plt.xlabel(\"$x_1$\")\n",
    "plt.ylabel(\"$x_2$\")\n",
    "plt.title(\"Approximation after \"+str(n)+\" iterations\")\n",
    "plt.show()"
   ]
  },
  {
   "cell_type": "code",
   "execution_count": 16,
   "metadata": {},
   "outputs": [
    {
     "data": {
      "image/png": "[encoded data removed]",
      "text/plain": [
       "<Figure size 432x288 with 1 Axes>"
      ]
     },
     "metadata": {
      "needs_background": "light"
     },
     "output_type": "display_data"
    }
   ],
   "source": [
    "i = np.arange(1,n+1,1)\n",
    "e = [np.sqrt((row[0]-2)*(row[0]-2)+(row[1]+2)*(row[1]+2)) for row in x]\n",
    "plt.plot(i,e,marker=\"+\")\n",
    "plt.xlabel(\"$n$\")\n",
    "plt.ylabel(\"$e$\")\n",
    "plt.title(\"Error after \"+str(n)+\" iterations\")\n",
    "plt.show()"
   ]
  },
  {
   "cell_type": "code",
   "execution_count": 17,
   "metadata": {},
   "outputs": [
    {
     "data": {
      "text/plain": [
       "[array([ 0.08      , -0.61333333]),\n",
       " array([ 1.00444444, -2.        ]),\n",
       " array([ 1.52213333, -1.65487407]),\n",
       " array([ 1.75221728, -2.        ]),\n",
       " array([ 1.8810643 , -1.91410199]),\n",
       " array([ 1.93832964, -2.        ]),\n",
       " array([ 1.97039822, -1.97862094]),\n",
       " array([ 1.98465093, -2.        ]),\n",
       " array([ 1.99263245, -1.99467899]),\n",
       " array([ 1.99617979, -2.        ]),\n",
       " array([ 1.9981663 , -1.99867566]),\n",
       " array([ 1.99904919, -2.        ]),\n",
       " array([ 1.99954361, -1.99967039]),\n",
       " array([ 1.99976335, -2.        ]),\n",
       " array([ 1.99988641, -1.99991796]),\n",
       " array([ 1.9999411, -2.       ]),\n",
       " array([ 1.99997173, -1.99997958]),\n",
       " array([ 1.99998534, -2.        ]),\n",
       " array([ 1.99999296, -1.99999492]),\n",
       " array([ 1.99999635, -2.        ]),\n",
       " array([ 1.99999825, -1.99999874]),\n",
       " array([ 1.99999909, -2.        ]),\n",
       " array([ 1.99999956, -1.99999969]),\n",
       " array([ 1.99999977, -2.        ]),\n",
       " array([ 1.99999989, -1.99999992]),\n",
       " array([ 1.99999994, -2.        ]),\n",
       " array([ 1.99999997, -1.99999998]),\n",
       " array([ 1.99999999, -2.        ]),\n",
       " array([ 1.99999999, -2.        ]),\n",
       " array([ 2., -2.]),\n",
       " array([ 2., -2.]),\n",
       " array([ 2., -2.]),\n",
       " array([ 2., -2.]),\n",
       " array([ 2., -2.]),\n",
       " array([ 2., -2.]),\n",
       " array([ 2., -2.]),\n",
       " array([ 2., -2.]),\n",
       " array([ 2., -2.]),\n",
       " array([ 2., -2.]),\n",
       " array([ 2., -2.]),\n",
       " array([ 2., -2.]),\n",
       " array([ 2., -2.]),\n",
       " array([ 2., -2.]),\n",
       " array([ 2., -2.]),\n",
       " array([ 2., -2.]),\n",
       " array([ 2., -2.]),\n",
       " array([ 2., -2.]),\n",
       " array([ 2., -2.]),\n",
       " array([ 2., -2.]),\n",
       " array([ 2., -2.])]"
      ]
     },
     "execution_count": 17,
     "metadata": {},
     "output_type": "execute_result"
    }
   ],
   "source": [
    "x\n"
   ]
  }
 ],
 "metadata": {
  "kernelspec": {
   "display_name": "Python 3",
   "language": "python",
   "name": "python3"
  },
  "language_info": {
   "codemirror_mode": {
    "name": "ipython",
    "version": 3
   },
   "file_extension": ".py",
   "mimetype": "text/x-python",
   "name": "python",
   "nbconvert_exporter": "python",
   "pygments_lexer": "ipython3",
   "version": "3.6.8"
  }
 },
 "nbformat": 4,
 "nbformat_minor": 2
}
