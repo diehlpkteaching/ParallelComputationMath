{
 "cells": [
  {
   "cell_type": "markdown",
   "metadata": {},
   "source": [
    "# 1D heat equation"
   ]
  },
  {
   "cell_type": "code",
   "execution_count": 1,
   "metadata": {},
   "outputs": [
    {
     "name": "stderr",
     "output_type": "stream",
     "text": [
      "IncrementalExecutor::executeFunction: symbol '__emutls_v._ZSt11__once_call' unresolved while linking function '__cxx_global_var_initcling_module_1_.28'!\n",
      "IncrementalExecutor::executeFunction: symbol '__emutls_v._ZSt15__once_callable' unresolved while linking function '__cxx_global_var_initcling_module_1_.28'!\n"
     ]
    },
    {
     "data": {
      "text/plain": []
     },
     "execution_count": 1,
     "metadata": {},
     "output_type": "execute_result"
    }
   ],
   "source": [
    "#include<run_hpx.cpp>\n",
    "#include<vector>\n",
    "#include<fstream>\n",
    "#include <iostream>"
   ]
  },
  {
   "cell_type": "markdown",
   "metadata": {},
   "source": [
    "## Method to save the out to a file for plotitng the result"
   ]
  },
  {
   "cell_type": "code",
   "execution_count": 2,
   "metadata": {},
   "outputs": [
    {
     "data": {
      "text/plain": []
     },
     "execution_count": 2,
     "metadata": {},
     "output_type": "execute_result"
    }
   ],
   "source": [
    "void saveFile(std::vector<hpx::shared_future<double>> U){\n",
    "\n",
    "  std::ofstream myfile;\n",
    "  myfile.open(\"out.txt\");\n",
    "  \n",
    "  for( auto u : U)\n",
    "  myfile <<  u.get() << std::endl;\n",
    "  myfile.close();\n",
    "\n",
    "}"
   ]
  },
  {
   "cell_type": "markdown",
   "metadata": {},
   "source": [
    "## Default parameters"
   ]
  },
  {
   "cell_type": "code",
   "execution_count": 3,
   "metadata": {},
   "outputs": [
    {
     "data": {
      "text/plain": []
     },
     "execution_count": 3,
     "metadata": {},
     "output_type": "execute_result"
    }
   ],
   "source": [
    "double k = 0.5;     // heat transfer coefficient\n",
    "double dt = 1.;     // time step\n",
    "double dx = 1.;     // grid spacing\n",
    "size_t nx = 100;\n",
    "size_t nt = 45;"
   ]
  },
  {
   "cell_type": "markdown",
   "metadata": {},
   "source": [
    "## Function to map the indicies "
   ]
  },
  {
   "cell_type": "code",
   "execution_count": 4,
   "metadata": {},
   "outputs": [
    {
     "data": {
      "text/plain": []
     },
     "execution_count": 4,
     "metadata": {},
     "output_type": "execute_result"
    }
   ],
   "source": [
    "inline std::size_t idx(std::size_t i, int dir, std::size_t size)\n",
    "{\n",
    "    if(i == 0 && dir == -1)\n",
    "        return size-1;\n",
    "    if(i == size-1 && dir == +1)\n",
    "        return 0;\n",
    "\n",
    "    HPX_ASSERT((i + dir) < size);\n",
    "\n",
    "    return i + dir;\n",
    "}"
   ]
  },
  {
   "cell_type": "markdown",
   "metadata": {},
   "source": [
    "## Simulation class"
   ]
  },
  {
   "cell_type": "code",
   "execution_count": 5,
   "metadata": {},
   "outputs": [
    {
     "data": {
      "text/plain": []
     },
     "execution_count": 5,
     "metadata": {},
     "output_type": "execute_result"
    }
   ],
   "source": [
    "class stepper {\n",
    "    \n",
    "    \n",
    "    public:\n",
    "    \n",
    "    // We use a shared future to be able to copy the partion\n",
    "    typedef hpx::shared_future<double> partition;\n",
    "\n",
    "    // Our data for one time step\n",
    "    typedef std::vector<partition> space;\n",
    "    \n",
    "     // do all the work on 'nx' data points for 'nt' time steps\n",
    "    space do_work(std::size_t nx, std::size_t nt)\n",
    "    {\n",
    "        // U[t][i] is the state of position i at time t.\n",
    "        std::vector<space> U(2);\n",
    "        for (space& s : U)\n",
    "            s.resize(nx);\n",
    "\n",
    "        // Initial conditions: f(0, i) = i\n",
    "        // Note we fill the intial conditions with futures, since the \n",
    "        // the partion is now a shared future object\n",
    "        for (std::size_t i = 0; i != nx; ++i)\n",
    "            U[0][i] = hpx::make_ready_future(double(i));\n",
    "        \n",
    "        // We need to unwrap the heat function, since we pass future<double> and\n",
    "        // not double values anymore to it\n",
    "        auto Op = hpx::util::unwrapping(&stepper::heat);\n",
    "\n",
    "        // Actual time step loop\n",
    "        for (std::size_t t = 0; t != nt; ++t)\n",
    "        {\n",
    "            space const& current = U[t % 2];\n",
    "            space& next = U[(t + 1) % 2];\n",
    "\n",
    "             for (std::size_t i = 0; i != nx; ++i)\n",
    "            {\n",
    "                next[i] = hpx::dataflow(\n",
    "                        hpx::launch::async, Op,\n",
    "                        current[idx(i, -1, nx)], current[i], current[idx(i, +1, nx)]\n",
    "                    );\n",
    "            }\n",
    "           \n",
    "        }\n",
    "\n",
    "        // Return the solution at time-step 'nt'.\n",
    "        return U[nt % 2];\n",
    "    }\n",
    "    \n",
    "    \n",
    "    private:\n",
    "    \n",
    "    // Our operator\n",
    "    static double heat(double left, double middle, double right)\n",
    "    {\n",
    "        return middle + (k*dt/(dx*dx)) * (left - 2*middle + right);\n",
    "    }    \n",
    "    \n",
    "};"
   ]
  },
  {
   "cell_type": "markdown",
   "metadata": {},
   "source": [
    "## Start timer"
   ]
  },
  {
   "cell_type": "code",
   "execution_count": 6,
   "metadata": {},
   "outputs": [
    {
     "data": {
      "text/plain": []
     },
     "execution_count": 6,
     "metadata": {},
     "output_type": "execute_result"
    }
   ],
   "source": [
    "stepper step;"
   ]
  },
  {
   "cell_type": "code",
   "execution_count": 7,
   "metadata": {},
   "outputs": [
    {
     "name": "stdout",
     "output_type": "stream",
     "text": [
      "Computation took 8495716119653563 on 4 threads\n",
      "Output written to out.txt!\n"
     ]
    },
    {
     "data": {
      "text/plain": [
       "(void) @0x7f3f9ca9fbe8\n"
      ]
     },
     "execution_count": 7,
     "metadata": {},
     "output_type": "execute_result"
    }
   ],
   "source": [
    "run_hpx([](){\n",
    "\n",
    "\n",
    "std::uint64_t t = hpx::util::high_resolution_clock::now();\n",
    "\n",
    "stepper::space solution = step.do_work(nx, nt);\n",
    "\n",
    "\n",
    "std::uint64_t elapsed = hpx::util::high_resolution_clock::now() - t;\n",
    "std::uint64_t const os_thread_count = hpx::get_os_thread_count();\n",
    "\n",
    "std::cout << \"Computation took \" << t << \" on \" << os_thread_count << \" threads\" << std::endl;\n",
    "    \n",
    "std::cout << \"Output written to out.txt!\" << std::endl;\n",
    "saveFile(solution);\n",
    "\n",
    "});"
   ]
  },
  {
   "cell_type": "code",
   "execution_count": null,
   "metadata": {},
   "outputs": [],
   "source": []
  }
 ],
 "metadata": {
  "kernelspec": {
   "display_name": "C++17",
   "language": "C++",
   "name": "cling-cpp17"
  },
  "language_info": {
   "codemirror_mode": "c++",
   "file_extension": ".c++",
   "mimetype": "text/x-c++src",
   "name": "c++"
  }
 },
 "nbformat": 4,
 "nbformat_minor": 2
}
