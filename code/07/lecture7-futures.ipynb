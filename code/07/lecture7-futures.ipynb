{
 "cells": [
  {
   "cell_type": "code",
   "execution_count": null,
   "metadata": {},
   "outputs": [],
   "source": [
    "# %load lecture7-future.cpp\n",
    "#include<future>\n",
    "#include<iostream>\n",
    "\n",
    "int compute(int data){\n",
    "\n",
    "return data * 2;\n",
    "\n",
    "}\n",
    "\n",
    "int main(void){\n",
    "\n",
    "int P,X = 1;\n",
    "\n",
    "\n",
    "std::future<int> f1 = std::async(compute,P);\n",
    "auto f2 = std::async(compute,X);\n",
    "\n",
    "std::cout << compute(f1.get() + f2.get()) << std::endl;\n",
    "\n",
    "return EXIT_SUCCESS;\n",
    "\n",
    "}\n",
    "\n"
   ]
  },
  {
   "cell_type": "code",
   "execution_count": 14,
   "metadata": {},
   "outputs": [],
   "source": [
    "!g++ lecture7-future.cpp -pthread"
   ]
  },
  {
   "cell_type": "code",
   "execution_count": 15,
   "metadata": {},
   "outputs": [
    {
     "name": "stdout",
     "output_type": "stream",
     "text": [
      "4\r\n"
     ]
    }
   ],
   "source": [
    "!./a.out"
   ]
  }
 ],
 "metadata": {
  "kernelspec": {
   "display_name": "Python 3",
   "language": "python",
   "name": "python3"
  },
  "language_info": {
   "codemirror_mode": {
    "name": "ipython",
    "version": 3
   },
   "file_extension": ".py",
   "mimetype": "text/x-python",
   "name": "python",
   "nbconvert_exporter": "python",
   "pygments_lexer": "ipython3",
   "version": "3.6.7"
  }
 },
 "nbformat": 4,
 "nbformat_minor": 2
}
