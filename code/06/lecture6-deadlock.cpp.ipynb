{
 "cells": [
  {
   "cell_type": "code",
   "execution_count": 1,
   "metadata": {},
   "outputs": [
    {
     "data": {
      "text/plain": []
     },
     "execution_count": 1,
     "metadata": {},
     "output_type": "execute_result"
    }
   ],
   "source": [
    "#include <string>\n",
    "#include <iostream>\n",
    "#include <thread>\n",
    "#include <mutex>"
   ]
  },
  {
   "cell_type": "code",
   "execution_count": 2,
   "metadata": {},
   "outputs": [
    {
     "data": {
      "text/plain": []
     },
     "execution_count": 2,
     "metadata": {},
     "output_type": "execute_result"
    }
   ],
   "source": [
    "class Person{\n",
    "\n",
    "private: \n",
    "\n",
    "std::string name;\n",
    "\n",
    "std::mutex m;\n",
    "\n",
    "public:\n",
    "\n",
    "Person(std::string name)\n",
    "{\n",
    "this->name = name;\n",
    "}\n",
    "\n",
    "std::string getName(){\n",
    "return name;\n",
    "}\n",
    "\n",
    "void bowBack(std::string bname){\n",
    "\n",
    "m.lock();\n",
    "std::cout << name << \" has bowed to me \" << bname << std::endl;\n",
    "m.unlock();\n",
    "}\n",
    "\n",
    "void bow(std::string bname)\n",
    "{\n",
    "m.lock();\n",
    "std::cout << name << \" has bowed to me \" << bname << std::endl;\n",
    "bowBack(name);\n",
    "m.unlock();\n",
    "}\n",
    "\n",
    "};"
   ]
  },
  {
   "cell_type": "code",
   "execution_count": 3,
   "metadata": {},
   "outputs": [
    {
     "data": {
      "text/plain": []
     },
     "execution_count": 3,
     "metadata": {},
     "output_type": "execute_result"
    }
   ],
   "source": [
    "Person* alphonse = new Person(\"Alphonse\");"
   ]
  },
  {
   "cell_type": "code",
   "execution_count": 4,
   "metadata": {},
   "outputs": [
    {
     "data": {
      "text/plain": []
     },
     "execution_count": 4,
     "metadata": {},
     "output_type": "execute_result"
    }
   ],
   "source": [
    "Person* gaston = new Person(\"Gaston\");"
   ]
  },
  {
   "cell_type": "code",
   "execution_count": 5,
   "metadata": {},
   "outputs": [
    {
     "name": "stdout",
     "output_type": "stream",
     "text": [
      "Alphonse has bowed to me Gaston\n"
     ]
    },
    {
     "data": {
      "text/plain": []
     },
     "execution_count": 5,
     "metadata": {},
     "output_type": "execute_result"
    }
   ],
   "source": [
    "std::thread t1(&Person::bow,alphonse,\"Gaston\");"
   ]
  },
  {
   "cell_type": "code",
   "execution_count": 6,
   "metadata": {},
   "outputs": [
    {
     "name": "stdout",
     "output_type": "stream",
     "text": [
      "Gaston has bowed to me Alphonse\n"
     ]
    },
    {
     "data": {
      "text/plain": []
     },
     "execution_count": 6,
     "metadata": {},
     "output_type": "execute_result"
    }
   ],
   "source": [
    "std::thread t2(&Person::bow,gaston,\"Alphonse\");"
   ]
  },
  {
   "cell_type": "code",
   "execution_count": null,
   "metadata": {},
   "outputs": [],
   "source": [
    "t1.join();\n",
    "t2.join();"
   ]
  }
 ],
 "metadata": {
  "kernelspec": {
   "display_name": "C++14",
   "language": "C++",
   "name": "cling-cpp14"
  },
  "language_info": {
   "codemirror_mode": "c++",
   "file_extension": ".c++",
   "mimetype": "text/x-c++src",
   "name": "c++"
  }
 },
 "nbformat": 4,
 "nbformat_minor": 2
}
