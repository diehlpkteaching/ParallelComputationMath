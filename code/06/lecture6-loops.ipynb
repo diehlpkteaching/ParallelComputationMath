{
 "cells": [
  {
   "cell_type": "code",
   "execution_count": null,
   "metadata": {},
   "outputs": [],
   "source": [
    "# %load lecture7-loops.cpp\n",
    "#include <vector>\n",
    "#include <algorithm>\n",
    "#include <iostream>\n",
    "#include <chrono>\n",
    "#include <execution>\n",
    "#include <numeric>\n",
    "\n",
    "int main(){\n",
    "\n",
    "\n",
    "    std::vector<double> nums(900000000,0);\n",
    "\n",
    "    {\n",
    "    auto t1 = std::chrono::high_resolution_clock::now();\n",
    "    auto result = std::accumulate(nums.begin(), nums.end(), 0.0);\n",
    "    auto t2 = std::chrono::high_resolution_clock::now();\n",
    "    std::chrono::duration<double, std::milli> ms = t2 - t1;\n",
    "    std::cout << std::fixed << \"std::accumulate result \" << result\n",
    "              << \" took \" << ms.count() << \" ms\\n\";\n",
    "    }\n",
    "\n",
    "    {\n",
    "    auto t1 = std::chrono::high_resolution_clock::now();\n",
    "    auto result = std::reduce(\n",
    "                    std::execution::par,\n",
    "                    nums.begin(), nums.end());\n",
    "    auto t2 = std::chrono::high_resolution_clock::now();\n",
    "    std::chrono::duration<double, std::milli> ms = t2 - t1;\n",
    "    std::cout << \"std::reduce result \"\n",
    "              << result << \" took \" << ms.count() << \" ms\\n\";\n",
    "    }\n",
    "\n",
    "    return 0; \n",
    "}\n"
   ]
  },
  {
   "cell_type": "markdown",
   "metadata": {},
   "source": [
    "# Compilation"
   ]
  },
  {
   "cell_type": "code",
   "execution_count": 14,
   "metadata": {},
   "outputs": [],
   "source": [
    "!g++ -std=c++1z -ltbb lecture7-loops.cpp  -o loops"
   ]
  },
  {
   "cell_type": "markdown",
   "metadata": {},
   "source": [
    "# Execution"
   ]
  },
  {
   "cell_type": "code",
   "execution_count": 15,
   "metadata": {},
   "outputs": [
    {
     "name": "stdout",
     "output_type": "stream",
     "text": [
      "std::accumulate result 0.000000 took 16654.374471 ms\n",
      "std::reduce result 0.000000 took 1120.099711 ms\n"
     ]
    }
   ],
   "source": [
    "!./loops"
   ]
  }
 ],
 "metadata": {
  "kernelspec": {
   "display_name": "Python 3",
   "language": "python",
   "name": "python3"
  },
  "language_info": {
   "codemirror_mode": {
    "name": "ipython",
    "version": 3
   },
   "file_extension": ".py",
   "mimetype": "text/x-python",
   "name": "python",
   "nbconvert_exporter": "python",
   "pygments_lexer": "ipython3",
   "version": "3.6.8"
  }
 },
 "nbformat": 4,
 "nbformat_minor": 2
}
