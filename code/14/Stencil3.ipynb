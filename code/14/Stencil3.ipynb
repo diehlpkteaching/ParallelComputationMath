{
 "cells": [
  {
   "cell_type": "markdown",
   "metadata": {},
   "source": [
    "# Serial implementaiton of the 1D heat equation introducing partitioning "
   ]
  },
  {
   "cell_type": "markdown",
   "metadata": {},
   "source": [
    "* In this code partitions are introduced such that we can controlt the grain size (amount of work per future) to gain better scalabilty "
   ]
  },
  {
   "cell_type": "code",
   "execution_count": 1,
   "metadata": {},
   "outputs": [
    {
     "name": "stderr",
     "output_type": "stream",
     "text": [
      "IncrementalExecutor::executeFunction: symbol '__emutls_v._ZSt11__once_call' unresolved while linking function '__cxx_global_var_initcling_module_1_.28'!\n",
      "IncrementalExecutor::executeFunction: symbol '__emutls_v._ZSt15__once_callable' unresolved while linking function '__cxx_global_var_initcling_module_1_.28'!\n"
     ]
    },
    {
     "data": {
      "text/plain": []
     },
     "execution_count": 1,
     "metadata": {},
     "output_type": "execute_result"
    }
   ],
   "source": [
    "#include<run_hpx.cpp>\n",
    "#include<vector>\n",
    "#include<fstream>\n",
    "#include <iostream>"
   ]
  },
  {
   "cell_type": "markdown",
   "metadata": {},
   "source": [
    "## New class to manage the partitions"
   ]
  },
  {
   "cell_type": "code",
   "execution_count": 2,
   "metadata": {},
   "outputs": [
    {
     "data": {
      "text/plain": []
     },
     "execution_count": 2,
     "metadata": {},
     "output_type": "execute_result"
    }
   ],
   "source": [
    "class partition_data\n",
    "{\n",
    "public:\n",
    "    partition_data(std::size_t size = 0)\n",
    "      : data_(size)\n",
    "    {}\n",
    "\n",
    "    partition_data(std::size_t size, double initial_value)\n",
    "      : data_(size)\n",
    "    {\n",
    "        double base_value = double(initial_value * size);\n",
    "        for (std::size_t i = 0; i != size; ++i)\n",
    "            data_[i] = base_value + double(i);\n",
    "    }\n",
    "\n",
    "    double& operator[](std::size_t idx) { return data_[idx]; }\n",
    "    double operator[](std::size_t idx) const { return data_[idx]; }\n",
    "\n",
    "    std::size_t size() const { return data_.size(); }\n",
    "\n",
    "private:\n",
    "    std::vector<double> data_;\n",
    "};\n"
   ]
  },
  {
   "cell_type": "markdown",
   "metadata": {},
   "source": [
    "## Method to save the out to a file for ploting the result"
   ]
  },
  {
   "cell_type": "code",
   "execution_count": 3,
   "metadata": {},
   "outputs": [
    {
     "data": {
      "text/plain": []
     },
     "execution_count": 3,
     "metadata": {},
     "output_type": "execute_result"
    }
   ],
   "source": [
    "void saveFile(std::vector<partition_data> U){\n",
    "\n",
    "  std::ofstream myfile;\n",
    "  myfile.open(\"out.txt\");\n",
    "  \n",
    "  for( auto u : U)\n",
    "      for (size_t i = 0 ; i < u.size(); i++)\n",
    "          myfile <<  u[i] << std::endl;\n",
    "  myfile.close();\n",
    "\n",
    "}"
   ]
  },
  {
   "cell_type": "markdown",
   "metadata": {},
   "source": [
    "## Default parameters"
   ]
  },
  {
   "cell_type": "code",
   "execution_count": 4,
   "metadata": {},
   "outputs": [
    {
     "data": {
      "text/plain": []
     },
     "execution_count": 4,
     "metadata": {},
     "output_type": "execute_result"
    }
   ],
   "source": [
    "double k = 0.5;     // heat transfer coefficient\n",
    "double dt = 1.;     // time step\n",
    "double dx = 1.;     // grid spacing\n",
    "size_t nx = 100;\n",
    "size_t nt = 45;\n",
    "size_t np = 1;"
   ]
  },
  {
   "cell_type": "markdown",
   "metadata": {},
   "source": [
    "## Function to map the indicies "
   ]
  },
  {
   "cell_type": "code",
   "execution_count": 5,
   "metadata": {},
   "outputs": [
    {
     "data": {
      "text/plain": []
     },
     "execution_count": 5,
     "metadata": {},
     "output_type": "execute_result"
    }
   ],
   "source": [
    "inline std::size_t idx(std::size_t i, int dir, std::size_t size)\n",
    "{\n",
    "    if(i == 0 && dir == -1)\n",
    "        return size-1;\n",
    "    if(i == size-1 && dir == +1)\n",
    "        return 0;\n",
    "\n",
    "    HPX_ASSERT((i + dir) < size);\n",
    "\n",
    "    return i + dir;\n",
    "}"
   ]
  },
  {
   "cell_type": "markdown",
   "metadata": {},
   "source": [
    "## Simulation class"
   ]
  },
  {
   "cell_type": "code",
   "execution_count": 6,
   "metadata": {},
   "outputs": [
    {
     "data": {
      "text/plain": []
     },
     "execution_count": 6,
     "metadata": {},
     "output_type": "execute_result"
    }
   ],
   "source": [
    "class stepper\n",
    "{\n",
    "\n",
    "public:\n",
    "\n",
    "    // Our data for one time step\n",
    "    typedef partition_data partition;\n",
    "    typedef std::vector<partition> space;\n",
    "\n",
    "    // Our operator\n",
    "    static double heat(double left, double middle, double right)\n",
    "    {\n",
    "        return middle + (k*dt/(dx*dx)) * (left - 2*middle + right);\n",
    "    }\n",
    "\n",
    "    // The partitioned operator, it invokes the heat operator above on all\n",
    "    // elements of a partition.\n",
    "    static partition_data heat_part(partition_data const& left,\n",
    "        partition_data const& middle, partition_data const& right)\n",
    "    {\n",
    "        std::size_t size = middle.size();\n",
    "        partition_data next(size);\n",
    "\n",
    "        next[0] = heat(left[size-1], middle[0], middle[1]);\n",
    "\n",
    "        for (std::size_t i = 1; i != size-1; ++i)\n",
    "            next[i] = heat(middle[i-1], middle[i], middle[i+1]);\n",
    "\n",
    "        next[size-1] = heat(middle[size-2], middle[size-1], right[0]);\n",
    "\n",
    "        return next;\n",
    "    }\n",
    "\n",
    "    // do all the work on 'np' partitions, 'nx' data points each, for 'nt'\n",
    "    // time steps\n",
    "    space do_work(std::size_t np, std::size_t nx, std::size_t nt)\n",
    "    {\n",
    "        // U[t][i] is the state of position i at time t.\n",
    "        std::vector<space> U(2);\n",
    "        for (space& s: U)\n",
    "            s.resize(np);\n",
    "\n",
    "        // Initial conditions: f(0, i) = i\n",
    "        for (std::size_t i = 0; i != np; ++i)\n",
    "            U[0][i] = partition_data(nx, double(i));\n",
    "\n",
    "        // Actual time step loop\n",
    "        for (std::size_t t = 0; t != nt; ++t)\n",
    "        {\n",
    "            space const& current = U[t % 2];\n",
    "            space& next = U[(t + 1) % 2];\n",
    "\n",
    "            for (std::size_t i = 0; i != np; ++i)\n",
    "                next[i] =\n",
    "                heat_part(current[idx(i, -1, np)], current[i], current[idx(i, +1, np)]);\n",
    "        }\n",
    "\n",
    "        // Return the solution at time-step 'nt'.\n",
    "        return U[nt % 2];\n",
    "    }\n",
    "};"
   ]
  },
  {
   "cell_type": "markdown",
   "metadata": {},
   "source": [
    "## Start simulation"
   ]
  },
  {
   "cell_type": "code",
   "execution_count": 7,
   "metadata": {},
   "outputs": [
    {
     "data": {
      "text/plain": []
     },
     "execution_count": 7,
     "metadata": {},
     "output_type": "execute_result"
    }
   ],
   "source": [
    "stepper step;"
   ]
  },
  {
   "cell_type": "code",
   "execution_count": 8,
   "metadata": {},
   "outputs": [
    {
     "name": "stdout",
     "output_type": "stream",
     "text": [
      "Computation took 9090768765537605 on 4 threads\n",
      "Output written to out.txt!\n"
     ]
    },
    {
     "data": {
      "text/plain": [
       "(void) @0x7fdadf192be8\n"
      ]
     },
     "execution_count": 8,
     "metadata": {},
     "output_type": "execute_result"
    }
   ],
   "source": [
    "run_hpx([](){\n",
    "\n",
    "\n",
    "std::uint64_t t = hpx::util::high_resolution_clock::now();\n",
    "\n",
    "stepper::space solution = step.do_work(np, nx, nt);\n",
    "\n",
    "\n",
    "std::uint64_t elapsed = hpx::util::high_resolution_clock::now() - t;\n",
    "std::uint64_t const os_thread_count = hpx::get_os_thread_count();\n",
    "\n",
    "std::cout << \"Computation took \" << t << \" on \" << os_thread_count << \" threads\" << std::endl;\n",
    "    \n",
    "std::cout << \"Output written to out.txt!\" << std::endl;\n",
    "saveFile(solution);\n",
    "\n",
    "});"
   ]
  }
 ],
 "metadata": {
  "kernelspec": {
   "display_name": "C++17",
   "language": "C++",
   "name": "cling-cpp17"
  },
  "language_info": {
   "codemirror_mode": "c++",
   "file_extension": ".c++",
   "mimetype": "text/x-c++src",
   "name": "c++"
  }
 },
 "nbformat": 4,
 "nbformat_minor": 2
}
