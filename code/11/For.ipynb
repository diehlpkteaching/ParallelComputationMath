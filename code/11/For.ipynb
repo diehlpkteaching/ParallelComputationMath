{
 "cells": [
  {
   "cell_type": "code",
   "execution_count": 1,
   "metadata": {},
   "outputs": [
    {
     "name": "stderr",
     "output_type": "stream",
     "text": [
      "IncrementalExecutor::executeFunction: symbol '__emutls_v._ZSt11__once_call' unresolved while linking function '__cxx_global_var_initcling_module_1_.25'!\n",
      "IncrementalExecutor::executeFunction: symbol '__emutls_v._ZSt15__once_callable' unresolved while linking function '__cxx_global_var_initcling_module_1_.25'!\n"
     ]
    },
    {
     "data": {
      "text/plain": []
     },
     "execution_count": 1,
     "metadata": {},
     "output_type": "execute_result"
    }
   ],
   "source": [
    "#include<run_hpx.cpp>\n",
    "#include<vector>\n",
    "#include<iostream>\n",
    "#include<hpx/include/parallel_for_loop.hpp>"
   ]
  },
  {
   "cell_type": "code",
   "execution_count": 2,
   "metadata": {},
   "outputs": [
    {
     "data": {
      "text/plain": []
     },
     "execution_count": 2,
     "metadata": {},
     "output_type": "execute_result"
    }
   ],
   "source": [
    "std::vector<double> values = {1,2,3,4,5,6,7,8,9};"
   ]
  },
  {
   "cell_type": "code",
   "execution_count": 4,
   "metadata": {},
   "outputs": [
    {
     "name": "stderr",
     "output_type": "stream",
     "text": [
      "input_line_6:7:9: error: no member named 'size' in 'std::vector<double, std::allocator<double> >'\n",
      "        values.size(),\n",
      "        ~~~~~~ ^\n",
      "In file included from input_line_1:1:\n",
      "In file included from /usr/lib/gcc/x86_64-redhat-linux/9/../../../../include/c++/9/new:40:\n",
      "In file included from /usr/lib/gcc/x86_64-redhat-linux/9/../../../../include/c++/9/exception:144:\n",
      "In file included from /usr/lib/gcc/x86_64-redhat-linux/9/../../../../include/c++/9/bits/nested_exception.h:40:\n",
      "In file included from /usr/lib/gcc/x86_64-redhat-linux/9/../../../../include/c++/9/bits/move.h:55:\n",
      "/usr/lib/gcc/x86_64-redhat-linux/9/../../../../include/c++/9/type_traits:137:31: error: no member named 'value' in 'std::__not_<std::is_lvalue_reference<std::basic_ostream<char> &> >'\n",
      "    : public conditional<_B1::value, __and_<_B2, _B3, _Bn...>, _B1>::type\n",
      "                         ~~~~~^\n",
      "/usr/lib/gcc/x86_64-redhat-linux/9/../../../../include/c++/9/ostream:685:24: note: in instantiation of template class 'std::__and_<std::__not_<std::is_lvalue_reference<std::basic_ostream<char> &> >, std::__is_convertible_to_basic_ostream<std::basic_ostream<char> &>, std::__is_insertable<std::basic_ostream<char> &, const double &, void> >' requested here\n",
      "    typename enable_if<__and_<__not_<is_lvalue_reference<_Ostream>>,\n",
      "                       ^\n",
      "input_line_6:10:12: note: while substituting deduced template arguments into function template 'operator<<' [with _Ostream = std::basic_ostream<char> &, _Tp = double]\n",
      "                std::cout<< values[i] << std::endl;\n",
      "                         ^\n",
      "input_line_6:10:12: error: use of overloaded operator '<<' is ambiguous (with operand types 'std::ostream' (aka 'basic_ostream<char>') and 'const __gnu_cxx::__alloc_traits<std::allocator<double>, double>::value_type' (aka 'const double'))\n",
      "                std::cout<< values[i] << std::endl;\n",
      "                ~~~~~~~~~^  ~~~~~~~~~\n",
      "/usr/lib/gcc/x86_64-redhat-linux/9/../../../../include/c++/9/ostream:166:7: note: candidate function\n",
      "      operator<<(long __n)\n",
      "      ^\n",
      "/usr/lib/gcc/x86_64-redhat-linux/9/../../../../include/c++/9/ostream:170:7: note: candidate function\n",
      "      operator<<(unsigned long __n)\n",
      "      ^\n",
      "/usr/lib/gcc/x86_64-redhat-linux/9/../../../../include/c++/9/ostream:174:7: note: candidate function\n",
      "      operator<<(bool __n)\n",
      "      ^\n",
      "/usr/lib/gcc/x86_64-redhat-linux/9/../../../../include/c++/9/ostream:178:7: note: candidate function\n",
      "      operator<<(short __n);\n",
      "      ^\n",
      "/usr/lib/gcc/x86_64-redhat-linux/9/../../../../include/c++/9/ostream:181:7: note: candidate function\n",
      "      operator<<(unsigned short __n)\n",
      "      ^\n",
      "/usr/lib/gcc/x86_64-redhat-linux/9/../../../../include/c++/9/ostream:189:7: note: candidate function\n",
      "      operator<<(int __n);\n",
      "      ^\n",
      "/usr/lib/gcc/x86_64-redhat-linux/9/../../../../include/c++/9/ostream:192:7: note: candidate function\n",
      "      operator<<(unsigned int __n)\n",
      "      ^\n",
      "/usr/lib/gcc/x86_64-redhat-linux/9/../../../../include/c++/9/ostream:201:7: note: candidate function\n",
      "      operator<<(long long __n)\n",
      "      ^\n",
      "/usr/lib/gcc/x86_64-redhat-linux/9/../../../../include/c++/9/ostream:205:7: note: candidate function\n",
      "      operator<<(unsigned long long __n)\n",
      "      ^\n",
      "/usr/lib/gcc/x86_64-redhat-linux/9/../../../../include/c++/9/ostream:224:7: note: candidate function\n",
      "      operator<<(float __f)\n",
      "      ^\n",
      "/usr/lib/gcc/x86_64-redhat-linux/9/../../../../include/c++/9/ostream:232:7: note: candidate function\n",
      "      operator<<(long double __f)\n",
      "      ^\n",
      "/usr/lib/gcc/x86_64-redhat-linux/9/../../../../include/c++/9/ostream:517:5: note: candidate function [with _Traits = std::char_traits<char>]\n",
      "    operator<<(basic_ostream<char, _Traits>& __out, char __c)\n",
      "    ^\n",
      "/usr/lib/gcc/x86_64-redhat-linux/9/../../../../include/c++/9/ostream:511:5: note: candidate function [with _CharT = char, _Traits = std::char_traits<char>]\n",
      "    operator<<(basic_ostream<_CharT, _Traits>& __out, char __c)\n",
      "    ^\n",
      "/usr/lib/gcc/x86_64-redhat-linux/9/../../../../include/c++/9/ostream:523:5: note: candidate function [with _Traits = std::char_traits<char>]\n",
      "    operator<<(basic_ostream<char, _Traits>& __out, signed char __c)\n",
      "    ^\n",
      "/usr/lib/gcc/x86_64-redhat-linux/9/../../../../include/c++/9/ostream:528:5: note: candidate function [with _Traits = std::char_traits<char>]\n",
      "    operator<<(basic_ostream<char, _Traits>& __out, unsigned char __c)\n",
      "    ^\n",
      "In file included from input_line_1:1:\n",
      "In file included from /usr/lib/gcc/x86_64-redhat-linux/9/../../../../include/c++/9/new:40:\n",
      "In file included from /usr/lib/gcc/x86_64-redhat-linux/9/../../../../include/c++/9/exception:144:\n",
      "In file included from /usr/lib/gcc/x86_64-redhat-linux/9/../../../../include/c++/9/bits/nested_exception.h:40:\n",
      "In file included from /usr/lib/gcc/x86_64-redhat-linux/9/../../../../include/c++/9/bits/move.h:55:\n",
      "/usr/lib/gcc/x86_64-redhat-linux/9/../../../../include/c++/9/type_traits:2398:12: error: no member named 'value' in 'std::is_member_object_pointer<(lambda at input_line_6:2:10)>'\n",
      "        >::value,\n",
      "        ~~~^\n",
      "/usr/lib/gcc/x86_64-redhat-linux/9/../../../../include/c++/9/type_traits:2408:14: note: in instantiation of template class 'std::__invoke_result<(lambda at input_line_6:2:10)>' requested here\n",
      "    : public __invoke_result<_Functor, _ArgTypes...>\n",
      "             ^\n",
      "/usr/include/run_hpx.cpp:237:15: note: in instantiation of template class 'std::result_of<(lambda at input_line_6:2:10) ()>' requested here\n",
      "typename std::result_of<F()>::type run_hpx(F f) {\n",
      "              ^\n",
      "input_line_6:2:2: note: while substituting deduced template arguments into function template 'run_hpx' [with F = (lambda at input_line_6:2:10)]\n",
      " run_hpx([](){\n",
      " ^\n",
      "input_line_6:2:2: error: no matching function for call to 'run_hpx'\n",
      " run_hpx([](){\n",
      " ^~~~~~~\n",
      "/usr/include/run_hpx.cpp:237:36: note: candidate template ignored: substitution failure [with F = (lambda at input_line_6:2:10)]\n",
      "typename std::result_of<F()>::type run_hpx(F f) {\n",
      "                                   ^\n"
     ]
    },
    {
     "ename": "ename",
     "evalue": "evalue",
     "output_type": "error",
     "traceback": []
    }
   ],
   "source": [
    "run_hpx([](){\n",
    "\n",
    "hpx::parallel::for_loop(\n",
    "\thpx::parallel::execution::par, \n",
    "\t0, \n",
    "\tvalues.size(),\n",
    "\t[](boost::uint64_t i)\n",
    "\t\t{\n",
    "\t\tstd::cout<< values[i] << std::endl;\n",
    "\t\t}\n",
    "\t);\n",
    "\n",
    "});"
   ]
  }
 ],
 "metadata": {
  "kernelspec": {
   "display_name": "C++17",
   "language": "C++",
   "name": "cling-cpp17"
  },
  "language_info": {
   "codemirror_mode": "c++",
   "file_extension": ".c++",
   "mimetype": "text/x-c++src",
   "name": "c++"
  }
 },
 "nbformat": 4,
 "nbformat_minor": 2
}
