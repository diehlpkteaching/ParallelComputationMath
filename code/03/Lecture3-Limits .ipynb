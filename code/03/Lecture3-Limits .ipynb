{
 "cells": [
  {
   "cell_type": "markdown",
   "metadata": {},
   "source": [
    "# Numerical Limits"
   ]
  },
  {
   "cell_type": "code",
   "execution_count": 1,
   "metadata": {},
   "outputs": [
    {
     "data": {
      "text/plain": []
     },
     "execution_count": 1,
     "metadata": {},
     "output_type": "execute_result"
    }
   ],
   "source": [
    "#include <limits>\n",
    "#include <iostream>\n"
   ]
  },
  {
   "cell_type": "code",
   "execution_count": 4,
   "metadata": {},
   "outputs": [
    {
     "name": "stdout",
     "output_type": "stream",
     "text": [
      "type\tmin()\t\tmax()\n",
      "int\t0\t4294967295\n",
      "int\t-2147483648\t2147483647\n"
     ]
    },
    {
     "data": {
      "text/plain": [
       "(std::basic_ostream<char, std::char_traits<char> > &) @0x7f4a76221e00\n"
      ]
     },
     "execution_count": 4,
     "metadata": {},
     "output_type": "execute_result"
    }
   ],
   "source": [
    "std::cout << \"type\\tmin()\\t\\tmax()\\n\";\n",
    "std::cout << \"int\\t\"\n",
    "<< std::numeric_limits<unsigned int>::min() << '\\t'\n",
    "<< std::numeric_limits<unsigned int>::max() << '\\n';\n",
    "std::cout << \"int\\t\"\n",
    "<< std::numeric_limits<int>::min() << '\\t'\n",
    "<< std::numeric_limits<int>::max() << '\\n';\n"
   ]
  },
  {
   "cell_type": "markdown",
   "metadata": {},
   "source": [
    "## Floating point numbers"
   ]
  },
  {
   "cell_type": "code",
   "execution_count": 5,
   "metadata": {},
   "outputs": [
    {
     "name": "stdout",
     "output_type": "stream",
     "text": [
      "type\tround()\teps\tmin()\t\tmax()\n",
      "double\t0.5\t2.22045e-16\t2.22507e-308\t1.79769e+308\n"
     ]
    },
    {
     "data": {
      "text/plain": [
       "(std::basic_ostream<char, std::char_traits<char> > &) @0x7f4a76221e00\n"
      ]
     },
     "execution_count": 5,
     "metadata": {},
     "output_type": "execute_result"
    }
   ],
   "source": [
    "  std::cout << \"type\\tround()\\teps\\tmin()\\t\\tmax()\\n\";\n",
    "  std::cout << \"double\\t\"\n",
    "    << std::numeric_limits<double>::round_error() <<'\\t'\n",
    "    << std::numeric_limits<double>::epsilon() <<'\\t'\n",
    "    << std::numeric_limits<double>::min() <<'\\t'\n",
    "    << std::numeric_limits<double>::max() <<'\\n';\n"
   ]
  }
 ],
 "metadata": {
  "kernelspec": {
   "display_name": "C++14",
   "language": "C++",
   "name": "cling-cpp14"
  },
  "language_info": {
   "codemirror_mode": "c++",
   "file_extension": ".c++",
   "mimetype": "text/x-c++src",
   "name": "c++"
  }
 },
 "nbformat": 4,
 "nbformat_minor": 2
}
