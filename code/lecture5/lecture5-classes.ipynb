{
 "cells": [
  {
   "cell_type": "markdown",
   "metadata": {},
   "source": [
    "# Header file"
   ]
  },
  {
   "cell_type": "code",
   "execution_count": 1,
   "metadata": {},
   "outputs": [
    {
     "data": {
      "text/plain": [
       "class vector2 {\n",
       "\n",
       "private:\n",
       "\n",
       "double x , y , z;\n",
       "\n",
       "public:\n",
       "\n",
       "vector2(double x = 0, double y=0, double z=0);\n",
       "\n",
       "double norm();\n",
       "\n",
       "};\n"
      ]
     },
     "execution_count": 1,
     "metadata": {},
     "output_type": "execute_result"
    }
   ],
   "source": [
    "%load vector2.h"
   ]
  },
  {
   "cell_type": "markdown",
   "metadata": {},
   "source": [
    "# Class file"
   ]
  },
  {
   "cell_type": "code",
   "execution_count": 2,
   "metadata": {},
   "outputs": [
    {
     "data": {
      "text/plain": [
       "#include \"vector2.h\"\n",
       "#include <cmath>\n",
       "\n",
       "vector2::vector2(double x, double y, double z) \n",
       "{\n",
       "    x = x;\n",
       "    x = y;\n",
       "    z = z;\n",
       "}\n",
       "\n",
       "\n",
       "double vector2::norm(){\n",
       "\n",
       "    return std::sqrt(x*x+y*y+z*z);\n",
       "}\n"
      ]
     },
     "execution_count": 2,
     "metadata": {},
     "output_type": "execute_result"
    }
   ],
   "source": [
    "%load vector2.cpp"
   ]
  },
  {
   "cell_type": "markdown",
   "metadata": {},
   "source": [
    "# Main class"
   ]
  },
  {
   "cell_type": "code",
   "execution_count": 5,
   "metadata": {},
   "outputs": [
    {
     "data": {
      "text/plain": [
       "#include \"vector2.h\"\n",
       "\n",
       "int main()\n",
       "{\n",
       "   \n",
       "    vector2 vec = vector2();\n",
       "\n",
       "    return 0;\n",
       "}\n"
      ]
     },
     "execution_count": 5,
     "metadata": {},
     "output_type": "execute_result"
    }
   ],
   "source": [
    "%load main.cpp"
   ]
  }
 ],
 "metadata": {
  "kernelspec": {
   "display_name": "C++14",
   "language": "C++",
   "name": "cling-cpp14"
  },
  "language_info": {
   "codemirror_mode": "c++",
   "file_extension": ".c++",
   "mimetype": "text/x-c++src",
   "name": "c++"
  }
 },
 "nbformat": 4,
 "nbformat_minor": 2
}
