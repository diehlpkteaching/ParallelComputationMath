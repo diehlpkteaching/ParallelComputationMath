{
 "cells": [
  {
   "cell_type": "code",
   "execution_count": 1,
   "metadata": {
    "slideshow": {
     "slide_type": "skip"
    }
   },
   "outputs": [
    {
     "data": {
      "text/plain": []
     },
     "execution_count": 1,
     "metadata": {},
     "output_type": "execute_result"
    }
   ],
   "source": [
    "template<typename T>\n",
    "struct data{\n",
    "\n",
    "data(T in){\n",
    "\n",
    "element = in;\n",
    "}\n",
    "\n",
    "// Element of the type std::list<T>\n",
    "T element;\n",
    "// Pointer of type of the class/struct\n",
    "data<T>* next = nullptr;\n",
    "\n",
    "};"
   ]
  },
  {
   "cell_type": "code",
   "execution_count": 2,
   "metadata": {
    "slideshow": {
     "slide_type": "skip"
    }
   },
   "outputs": [
    {
     "data": {
      "text/plain": []
     },
     "execution_count": 2,
     "metadata": {},
     "output_type": "execute_result"
    }
   ],
   "source": [
    "#include <iostream>"
   ]
  },
  {
   "cell_type": "code",
   "execution_count": 3,
   "metadata": {
    "slideshow": {
     "slide_type": "skip"
    }
   },
   "outputs": [
    {
     "data": {
      "text/plain": []
     },
     "execution_count": 3,
     "metadata": {},
     "output_type": "execute_result"
    }
   ],
   "source": [
    "// Struct for our implementation of the list\n",
    "template<typename T>\n",
    "struct myList{\n",
    "\n",
    "//Pointer to the first element\n",
    "data<T>* first = nullptr;\n",
    "\n",
    "myList(){}\n",
    "\n",
    "myList(T in){\n",
    "\n",
    "    first = new data<T>(in);\n",
    "\n",
    "}\n",
    "\n",
    "bool empty(){\n",
    "\n",
    "    if (first == nullptr)\n",
    "        return true;\n",
    "\n",
    "    return false;\n",
    "}\n",
    "    \n",
    "void push_back(T element){\n",
    "\n",
    "data<T>* tmp = first;\n",
    "\n",
    "while (tmp->next != nullptr)\n",
    "    tmp = tmp->next;\n",
    "\n",
    "tmp->next = new data<T>(element);\n",
    "}\n",
    "\n",
    "    \n",
    "void print(){\n",
    "\n",
    "data<T>* tmp = first;\n",
    "\n",
    "while (tmp->next != nullptr){\n",
    "    std::cout << tmp->element << \" \";\n",
    "    tmp = tmp->next;\n",
    "    }\n",
    "    std::cout << tmp->element;\n",
    "}\n",
    "    \n",
    "    \n",
    "void pop_back(){\n",
    "\n",
    "data<T>* tmp = first;\n",
    "data<T>* prev;\n",
    "\n",
    "while (tmp->next->next != nullptr){\n",
    "    tmp = tmp->next;\n",
    "    }\n",
    "    \n",
    "    delete tmp->next;\n",
    "    tmp->next = nullptr;\n",
    "}\n",
    "    \n",
    "    \n",
    "void insert(T element, size_t index){\n",
    "\n",
    "data<T>* newNode = new data<T>(element);\n",
    "data<T>* tmp = first;\n",
    "data<T>* prev = nullptr;\n",
    "\n",
    "\n",
    "//Case: Replace the head node\n",
    "if (index == 0 && tmp != nullptr){\n",
    "    newNode->next = tmp;\n",
    "    first = newNode;\n",
    "    return;\n",
    "}\n",
    "\n",
    "//tmp = tmp->next;\n",
    "\n",
    "// Case: search for the node\n",
    "size_t i = 0;\n",
    "\n",
    "while(i < index && tmp != nullptr){\n",
    "\n",
    "    prev = tmp;\n",
    "    tmp = tmp->next;\n",
    "    i++;\n",
    "}\n",
    "\n",
    "if (tmp == nullptr)\n",
    "    {\n",
    "    std::cout << \"Index \" << index << \" out of range\" << std::endl;\n",
    "    return;\n",
    "    }\n",
    "    \n",
    "    prev->next = newNode;    \n",
    "    newNode->next = tmp;\n",
    "}\n",
    "\n",
    "void remove(T element){\n",
    "\n",
    "data<T>* tmp = first;\n",
    "data<T>* prev = nullptr;\n",
    "\n",
    "// Case I: Delete the head node\n",
    "if (tmp != NULL && tmp->element == element){\n",
    "    first = tmp->next;\n",
    "    delete tmp;\n",
    "    }\n",
    "\n",
    "while (tmp != NULL && tmp->element != element) \n",
    "    { \n",
    "        prev = tmp; \n",
    "        tmp = tmp->next; \n",
    "    } \n",
    "\n",
    "// Node was not found \n",
    "if (tmp == NULL) \n",
    "        return; \n",
    "        \n",
    "// Unlink the node from linked list \n",
    "prev->next = tmp->next; \n",
    "  \n",
    "// Free memory \n",
    "delete tmp; \n",
    "        \n",
    "}\n",
    "  \n",
    "void push_front(T element){\n",
    "    \n",
    "data<T>* tmp = first;\n",
    "    \n",
    "first = new data<T>(element);\n",
    "    \n",
    "first->next = tmp; \n",
    "    \n",
    "}\n",
    "    \n",
    "bool find(T element){\n",
    "\n",
    "bool found = false;\n",
    "\n",
    "data<T>* tmp = first;\n",
    "\n",
    "while (tmp != nullptr){\n",
    "   \n",
    "    if (tmp->element == element)\n",
    "    return true;\n",
    "    \n",
    "    tmp = tmp->next;\n",
    "    }\n",
    "\n",
    "return false;\n",
    "\n",
    "}\n",
    "    \n",
    "void pop_front(){\n",
    "    \n",
    "    if (first == nullptr) \n",
    "        return; \n",
    "  \n",
    "    // Move the head pointer to the next node \n",
    "    data<T>* tmp = first; \n",
    "    first = first->next; \n",
    "  \n",
    "    delete tmp; \n",
    "    \n",
    "}\n",
    "    \n",
    "};"
   ]
  },
  {
   "cell_type": "markdown",
   "metadata": {
    "slideshow": {
     "slide_type": "slide"
    }
   },
   "source": [
    "# Implementation: Single linked list\n",
    "\n",
    "In this lecture, we will develop a single linked list which is a simplification of the std::list. Note that the std::list is a double linked list which allows forward and backwards iteraitons over the list. For simplificaiton we use the single linked list and only implement the forward iterator. However, adding the backward iterator is not much more additional work. \n",
    "\n",
    "![alt text](list.jpg \"Title\")\n",
    "    "
   ]
  },
  {
   "cell_type": "markdown",
   "metadata": {
    "slideshow": {
     "slide_type": "slide"
    }
   },
   "source": [
    "## Datastructure\n",
    "\n",
    "Each element of type T is stored in a struct/class data and inside there is stored \n",
    "* T element which is the element itself\n",
    "* A pointer to the struct/class\n"
   ]
  },
  {
   "cell_type": "markdown",
   "metadata": {
    "slideshow": {
     "slide_type": "subslide"
    }
   },
   "source": [
    "```c++\n",
    "template<typename T>\n",
    "struct data{\n",
    "\n",
    "data(T in){\n",
    "\n",
    "element = in;\n",
    "}\n",
    "\n",
    "// Element of the type std::list<T>\n",
    "T element;\n",
    "// Pointer of type of the class/struct\n",
    "data<T>* next = nullptr;\n",
    "\n",
    "};\n",
    "```"
   ]
  },
  {
   "cell_type": "markdown",
   "metadata": {
    "slideshow": {
     "slide_type": "subslide"
    }
   },
   "source": [
    "```c++\n",
    "// Struct for our implementation of the list\n",
    "template<typename T>\n",
    "struct myList{\n",
    "\n",
    "//Pointer to the first element\n",
    "data<T>* first = nullptr;\n",
    "\n",
    "myList(){}\n",
    "\n",
    "myList(T in){\n",
    "\n",
    "\tfirst = new data<T>(in);\n",
    "\n",
    "}\n",
    "\n",
    "bool empty(){\n",
    "\n",
    "\tif (first == nullptr)\n",
    "\t\treturn true;\n",
    "\t\n",
    "\treturn false;\n",
    "}\n",
    "\n",
    "};\n",
    "```"
   ]
  },
  {
   "cell_type": "markdown",
   "metadata": {
    "slideshow": {
     "slide_type": "slide"
    }
   },
   "source": [
    "## Initilaziation of a list\n",
    "\n",
    "![alt text](list-init.jpg \"Title\")\n"
   ]
  },
  {
   "cell_type": "code",
   "execution_count": 4,
   "metadata": {
    "slideshow": {
     "slide_type": "fragment"
    }
   },
   "outputs": [
    {
     "data": {
      "text/plain": []
     },
     "execution_count": 4,
     "metadata": {},
     "output_type": "execute_result"
    }
   ],
   "source": [
    "#include<list>\n",
    "#include<iostream>"
   ]
  },
  {
   "cell_type": "code",
   "execution_count": 5,
   "metadata": {
    "slideshow": {
     "slide_type": "fragment"
    }
   },
   "outputs": [
    {
     "data": {
      "text/plain": []
     },
     "execution_count": 5,
     "metadata": {},
     "output_type": "execute_result"
    }
   ],
   "source": [
    "// CST list\n",
    "std::list<double> list;\n",
    "\n",
    "// Our list\n",
    "myList<double> mylist;"
   ]
  },
  {
   "cell_type": "code",
   "execution_count": 6,
   "metadata": {
    "slideshow": {
     "slide_type": "fragment"
    }
   },
   "outputs": [
    {
     "name": "stdout",
     "output_type": "stream",
     "text": [
      "1 1\n"
     ]
    },
    {
     "data": {
      "text/plain": [
       "(std::basic_ostream<char, std::char_traits<char> >::__ostream_type &) @0x7f00115f2500\n"
      ]
     },
     "execution_count": 6,
     "metadata": {},
     "output_type": "execute_result"
    }
   ],
   "source": [
    "std::cout<< list.empty() << \" \" << mylist.empty() << std::endl"
   ]
  },
  {
   "cell_type": "code",
   "execution_count": 7,
   "metadata": {
    "slideshow": {
     "slide_type": "fragment"
    }
   },
   "outputs": [
    {
     "data": {
      "text/plain": [
       "(myList &) @0x7f0014143030\n"
      ]
     },
     "execution_count": 7,
     "metadata": {},
     "output_type": "execute_result"
    }
   ],
   "source": [
    "list = {1};\n",
    "\n",
    "mylist = myList<double>(1);"
   ]
  },
  {
   "cell_type": "markdown",
   "metadata": {
    "slideshow": {
     "slide_type": "slide"
    }
   },
   "source": [
    "## Adding to the list\n",
    "\n",
    "For a linked list, we always have to keep the pointer to the first element, since we use this pointer to access all other elements of the list. The pointer to the second element will be added to the next pointer of the first element.\n",
    "\n",
    "![alt text](list-push-back.jpg \"Title\")"
   ]
  },
  {
   "cell_type": "code",
   "execution_count": 8,
   "metadata": {
    "slideshow": {
     "slide_type": "subslide"
    }
   },
   "outputs": [
    {
     "data": {
      "text/plain": [
       "(void) @0x7effff7fcc88\n"
      ]
     },
     "execution_count": 8,
     "metadata": {},
     "output_type": "execute_result"
    }
   ],
   "source": [
    "list.push_back(2);\n",
    "\n",
    "mylist.push_back(2);"
   ]
  },
  {
   "cell_type": "markdown",
   "metadata": {
    "slideshow": {
     "slide_type": "slide"
    }
   },
   "source": [
    "## Implemententing the push_back function"
   ]
  },
  {
   "cell_type": "markdown",
   "metadata": {
    "slideshow": {
     "slide_type": "fragment"
    }
   },
   "source": [
    "```c++\n",
    "void push_back(data<T>* first, T element){\n",
    "\n",
    "data<T>* tmp = first;\n",
    "\n",
    "while (tmp->next != nullptr)\n",
    "    tmp = tmp->next;\n",
    "\n",
    "tmp->next = new data<T>(element);\n",
    "}\n",
    "```"
   ]
  },
  {
   "cell_type": "markdown",
   "metadata": {
    "slideshow": {
     "slide_type": "slide"
    }
   },
   "source": [
    "## Implementing the push_front function\n",
    "\n",
    "\n",
    "\n",
    "![alt text](list-push-front.jpg \"Title\")"
   ]
  },
  {
   "cell_type": "markdown",
   "metadata": {
    "slideshow": {
     "slide_type": "fragment"
    }
   },
   "source": [
    "```c++\n",
    "void push_front(T element){\n",
    "    \n",
    "data<T>* tmp = first;\n",
    "    \n",
    "first = new data<T>(element);\n",
    "    \n",
    "first->next = tmp; \n",
    "    \n",
    "}\n",
    "```"
   ]
  },
  {
   "cell_type": "code",
   "execution_count": 9,
   "metadata": {
    "slideshow": {
     "slide_type": "fragment"
    }
   },
   "outputs": [
    {
     "name": "stdout",
     "output_type": "stream",
     "text": [
      "-1 1 2"
     ]
    },
    {
     "data": {
      "text/plain": [
       "(void) @0x7effff7fcc88\n"
      ]
     },
     "execution_count": 9,
     "metadata": {},
     "output_type": "execute_result"
    }
   ],
   "source": [
    "list.push_front(-1);\n",
    "mylist.push_front(-1);\n",
    "mylist.print();"
   ]
  },
  {
   "cell_type": "markdown",
   "metadata": {
    "slideshow": {
     "slide_type": "slide"
    }
   },
   "source": [
    "## Printing the elements"
   ]
  },
  {
   "cell_type": "code",
   "execution_count": 10,
   "metadata": {
    "slideshow": {
     "slide_type": "fragment"
    }
   },
   "outputs": [
    {
     "data": {
      "text/plain": []
     },
     "execution_count": 10,
     "metadata": {},
     "output_type": "execute_result"
    }
   ],
   "source": [
    "#include<iostream>"
   ]
  },
  {
   "cell_type": "code",
   "execution_count": 11,
   "metadata": {
    "slideshow": {
     "slide_type": "fragment"
    }
   },
   "outputs": [
    {
     "name": "stdout",
     "output_type": "stream",
     "text": [
      "-1 1 2 "
     ]
    },
    {
     "data": {
      "text/plain": [
       "(void) @0x7effff7fcc88\n"
      ]
     },
     "execution_count": 11,
     "metadata": {},
     "output_type": "execute_result"
    }
   ],
   "source": [
    "void print(std::list<double> list){\n",
    "std::list<double>::iterator it;\n",
    "for (it = list.begin(); it != list.end(); it++)\n",
    "    std::cout << *it << \" \" ;\n",
    "\n",
    "}\n",
    "\n",
    "print(list);"
   ]
  },
  {
   "cell_type": "markdown",
   "metadata": {
    "slideshow": {
     "slide_type": "fragment"
    }
   },
   "source": [
    "```c++\n",
    "void print(data<T>* first){\n",
    "\n",
    "data<T>* tmp = first;\n",
    "\n",
    "while (tmp->next != nullptr){\n",
    "    std::cout << tmp->element << \" \";\n",
    "    tmp = tmp->next;\n",
    "    }\n",
    "    std::cout << tmp->element;\n",
    "}\n",
    "```"
   ]
  },
  {
   "cell_type": "code",
   "execution_count": 12,
   "metadata": {
    "slideshow": {
     "slide_type": "fragment"
    }
   },
   "outputs": [
    {
     "name": "stdout",
     "output_type": "stream",
     "text": [
      "-1 1 2"
     ]
    },
    {
     "data": {
      "text/plain": [
       "(void) nullptr\n"
      ]
     },
     "execution_count": 12,
     "metadata": {},
     "output_type": "execute_result"
    }
   ],
   "source": [
    "mylist.print();"
   ]
  },
  {
   "cell_type": "markdown",
   "metadata": {
    "slideshow": {
     "slide_type": "slide"
    }
   },
   "source": [
    "## Remove the last element\n",
    "\n",
    "![alt text](list-pop-back.jpg \"Title\")"
   ]
  },
  {
   "cell_type": "markdown",
   "metadata": {
    "slideshow": {
     "slide_type": "fragment"
    }
   },
   "source": [
    "```c++\n",
    "void pop_back(){\n",
    "\n",
    "data<T>* tmp = first;\n",
    "data<T>* prev;\n",
    "\n",
    "while (tmp->next->next != nullptr){\n",
    "    tmp = tmp->next;\n",
    "    }\n",
    "    \n",
    "    delete tmp->next;\n",
    "    tmp->next = nullptr;\n",
    "}\n",
    "```"
   ]
  },
  {
   "cell_type": "code",
   "execution_count": 13,
   "metadata": {
    "slideshow": {
     "slide_type": "fragment"
    }
   },
   "outputs": [
    {
     "name": "stdout",
     "output_type": "stream",
     "text": [
      "-1 1 \n",
      "-1 1"
     ]
    },
    {
     "data": {
      "text/plain": [
       "(void) @0x7effff7fcc88\n"
      ]
     },
     "execution_count": 13,
     "metadata": {},
     "output_type": "execute_result"
    }
   ],
   "source": [
    "list.pop_back();\n",
    "print(list);\n",
    "std::cout << std::endl;\n",
    "mylist.pop_back();\n",
    "mylist.print();"
   ]
  },
  {
   "cell_type": "markdown",
   "metadata": {
    "slideshow": {
     "slide_type": "slide"
    }
   },
   "source": [
    "## Inserting a element"
   ]
  },
  {
   "cell_type": "markdown",
   "metadata": {
    "slideshow": {
     "slide_type": "fragment"
    }
   },
   "source": [
    "```c++\n",
    "void insert(data<T>** first, T element, size_t index){\n",
    "\n",
    "data<T>* newNode = new data<T>(element);\n",
    "data<T>* tmp = *first;\n",
    "data<T>* prev = nullptr;\n",
    "\n",
    "\n",
    "//Case: Replace the head node\n",
    "if (index == 0 && tmp != nullptr){\n",
    "    newNode->next = tmp;\n",
    "    *first = newNode;\n",
    "    return;\n",
    "}\n",
    "\n",
    "//tmp = tmp->next;\n",
    "\n",
    "// Case: search for the node\n",
    "size_t i = 0;\n",
    "\n",
    "while(i < index && tmp != nullptr){\n",
    "\n",
    "    prev = tmp;\n",
    "    tmp = tmp->next;\n",
    "    i++;\n",
    "}\n",
    "\n",
    "if (tmp == nullptr)\n",
    "    {\n",
    "    std::cout << \"Index \" << index << \" out of range\" << std::endl;\n",
    "    return;\n",
    "    }\n",
    "    \n",
    "    prev->next = newNode;    \n",
    "    newNode->next = tmp;\n",
    "}\n",
    "```"
   ]
  },
  {
   "cell_type": "code",
   "execution_count": 14,
   "metadata": {
    "slideshow": {
     "slide_type": "fragment"
    }
   },
   "outputs": [
    {
     "name": "stdout",
     "output_type": "stream",
     "text": [
      "Initial list\n",
      "-1 1\n",
      "Inserting at the beginning\n",
      "1 -1 1\n",
      "Inserting somewhere\n",
      "1 40 -1 1\n",
      "Index 10 out of range\n"
     ]
    },
    {
     "data": {
      "text/plain": [
       "(void) @0x7effff7fcc88\n"
      ]
     },
     "execution_count": 14,
     "metadata": {},
     "output_type": "execute_result"
    }
   ],
   "source": [
    "std::cout << \"Initial list\" << std::endl;\n",
    "mylist.print();\n",
    "std::cout << std::endl;\n",
    "std::cout << \"Inserting at the beginning\" << std::endl;\n",
    "mylist.insert(1.0,0);\n",
    "mylist.print();\n",
    "std::cout << std::endl;\n",
    "std::cout << \"Inserting somewhere\" << std::endl;\n",
    "mylist.insert(40.0,1);\n",
    "mylist.print();\n",
    "std::cout << std::endl;\n",
    "mylist.insert(40.0,10);"
   ]
  },
  {
   "cell_type": "markdown",
   "metadata": {
    "slideshow": {
     "slide_type": "slide"
    }
   },
   "source": [
    "## Deleting a element"
   ]
  },
  {
   "cell_type": "markdown",
   "metadata": {
    "slideshow": {
     "slide_type": "fragment"
    }
   },
   "source": [
    "```c++\n",
    "void remove(T element){\n",
    "\n",
    "data<T>* tmp = *first;\n",
    "data<T>* prev = nullptr;\n",
    "\n",
    "// Case I: Delete the head node\n",
    "if (tmp != NULL && tmp->element == element){\n",
    "    *first = tmp->next;\n",
    "    delete tmp;\n",
    "    }\n",
    "\n",
    "while (tmp != NULL && tmp->element != element) \n",
    "    { \n",
    "        prev = tmp; \n",
    "        tmp = tmp->next; \n",
    "    } \n",
    "\n",
    "// Node was not found \n",
    "if (tmp == NULL) \n",
    "        return; \n",
    "        \n",
    "// Unlink the node from linked list \n",
    "prev->next = tmp->next; \n",
    "  \n",
    "// Free memory \n",
    "delete tmp; \n",
    "        \n",
    "}\n",
    "```"
   ]
  },
  {
   "cell_type": "code",
   "execution_count": 15,
   "metadata": {
    "slideshow": {
     "slide_type": "fragment"
    }
   },
   "outputs": [
    {
     "name": "stdout",
     "output_type": "stream",
     "text": [
      "1 40 -1 1"
     ]
    },
    {
     "data": {
      "text/plain": [
       "(void) @0x7effff7fcc88\n"
      ]
     },
     "execution_count": 15,
     "metadata": {},
     "output_type": "execute_result"
    }
   ],
   "source": [
    "mylist.remove(2.0);\n",
    "mylist.print();"
   ]
  },
  {
   "cell_type": "markdown",
   "metadata": {
    "slideshow": {
     "slide_type": "slide"
    }
   },
   "source": [
    "## Finding a element"
   ]
  },
  {
   "cell_type": "markdown",
   "metadata": {
    "slideshow": {
     "slide_type": "fragment"
    }
   },
   "source": [
    "```c++\n",
    "bool find(T element){\n",
    "\n",
    "bool found = false;\n",
    "\n",
    "data<T>* tmp = first;\n",
    "\n",
    "while (tmp != nullptr){\n",
    "   \n",
    "    if (tmp->element == element)\n",
    "    return true;\n",
    "    \n",
    "    tmp = tmp->next;\n",
    "    }\n",
    "\n",
    "return false;\n",
    "\n",
    "}\n",
    "```"
   ]
  },
  {
   "cell_type": "markdown",
   "metadata": {
    "slideshow": {
     "slide_type": "slide"
    }
   },
   "source": [
    "### Example"
   ]
  },
  {
   "cell_type": "code",
   "execution_count": 16,
   "metadata": {
    "slideshow": {
     "slide_type": "fragment"
    }
   },
   "outputs": [
    {
     "data": {
      "text/plain": []
     },
     "execution_count": 16,
     "metadata": {},
     "output_type": "execute_result"
    }
   ],
   "source": [
    "#include <algorithm>  "
   ]
  },
  {
   "cell_type": "code",
   "execution_count": 17,
   "metadata": {
    "slideshow": {
     "slide_type": "fragment"
    }
   },
   "outputs": [
    {
     "name": "stdout",
     "output_type": "stream",
     "text": [
      "Element was not found!\n",
      "Element 1 was found!\n",
      "0\n",
      "1\n"
     ]
    },
    {
     "data": {
      "text/plain": [
       "(std::basic_ostream<char, std::char_traits<char> >::__ostream_type &) @0x7f00115f2500\n"
      ]
     },
     "execution_count": 17,
     "metadata": {},
     "output_type": "execute_result"
    }
   ],
   "source": [
    "auto p = std::find(list.begin(),list.end(),5.0);\n",
    "\n",
    "if ( p != list.end())\n",
    "    std::cout << \"Element \" << *p << \" was found!\\n\";\n",
    "else\n",
    "    std::cout << \"Element was not found!\\n\"; \n",
    "\n",
    "p = std::find(list.begin(),list.end(),1.0);\n",
    "\n",
    "if ( p != list.end())\n",
    "    std::cout << \"Element \" << *p << \" was found!\\n\";\n",
    "else\n",
    "    std::cout << \"Element was not found!\\n\"; \n",
    "\n",
    "std::cout << mylist.find(5.0) << std::endl;\n",
    "std::cout << mylist.find(1.0) << std::endl;\n"
   ]
  }
 ],
 "metadata": {
  "celltoolbar": "Slideshow",
  "kernelspec": {
   "display_name": "C++17",
   "language": "C++",
   "name": "cling-cpp17"
  },
  "language_info": {
   "codemirror_mode": "c++",
   "file_extension": ".c++",
   "mimetype": "text/x-c++src",
   "name": "c++"
  }
 },
 "nbformat": 4,
 "nbformat_minor": 4
}
