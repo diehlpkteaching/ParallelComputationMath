{
 "cells": [
  {
   "cell_type": "markdown",
   "id": "3adef2ef",
   "metadata": {
    "slideshow": {
     "slide_type": "slide"
    }
   },
   "source": [
    "# How to find bugs and memory leaks in C++\n",
    "\n",
    "* A common tool for shared memory parallism is [GDB](https://www.gnu.org/software/gdb/): The GNU Project Debugger\n",
    "* [Valgrind](https://valgrind.org/) is an instrumentation framework for building dynamic analysis tools. There are Valgrind tools that can automatically detect many memory management and threading bugs, and profile your programs in detail."
   ]
  },
  {
   "cell_type": "markdown",
   "id": "226472b8",
   "metadata": {
    "slideshow": {
     "slide_type": "slide"
    }
   },
   "source": [
    "![alt text](https://www.memesmonkey.com/images/memesmonkey/fd/fd382388e9c6585ee8f9c7a12533f2f6.jpeg \"Title\")"
   ]
  },
  {
   "cell_type": "markdown",
   "id": "3d11044d",
   "metadata": {
    "slideshow": {
     "slide_type": "slide"
    }
   },
   "source": [
    "## Debugging using gdb\n",
    "\n",
    "For production runs, we compile the code as"
   ]
  },
  {
   "cell_type": "code",
   "execution_count": 1,
   "id": "b6f92eb6",
   "metadata": {
    "slideshow": {
     "slide_type": "fragment"
    }
   },
   "outputs": [],
   "source": [
    "%%bash \n",
    "g++ main_debug.cc -o debug_example"
   ]
  },
  {
   "cell_type": "markdown",
   "id": "b15ad265",
   "metadata": {
    "slideshow": {
     "slide_type": "subslide"
    }
   },
   "source": [
    "For debugging we need to add `-g` to our code to get debug information added "
   ]
  },
  {
   "cell_type": "code",
   "execution_count": 2,
   "id": "c497b5f9",
   "metadata": {
    "slideshow": {
     "slide_type": "fragment"
    }
   },
   "outputs": [],
   "source": [
    "%%bash \n",
    "g++ -g main_debug.cc -o debug_example"
   ]
  },
  {
   "cell_type": "markdown",
   "id": "70e410e3",
   "metadata": {
    "slideshow": {
     "slide_type": "slide"
    }
   },
   "source": [
    "### Starting the executable using gdb\n",
    "\n",
    "* `gdb name_of_executable`\n",
    "\n",
    "Note that all comand line options are not provided at this stage.\n",
    "\n",
    "```bash\n",
    "gdb debug_example\n",
    "GNU gdb (GDB) Fedora 9.1-7.fc32\n",
    "Copyright (C) 2020 Free Software Foundation, Inc.\n",
    "For help, type \"help\".\n",
    "Type \"apropos word\" to search for commands related to \"word\"...\n",
    "Reading symbols from debug_example...\n",
    "(gdb)\n",
    "```"
   ]
  },
  {
   "cell_type": "markdown",
   "id": "0c33a978",
   "metadata": {
    "slideshow": {
     "slide_type": "slide"
    }
   },
   "source": [
    "### Running the code\n",
    "\n",
    "* We use the command `run` to execute the code within the debuuger \n",
    "\n",
    "```bash\n",
    "(gdb) run 3\n",
    "Starting program: /home/diehlpk/debug_example 3\n",
    "warning: Error disabling address space randomization: Operation not permitted\n",
    "9\n",
    "[Inferior 1 (process 4516) exited normally]\n",
    "```"
   ]
  },
  {
   "cell_type": "markdown",
   "id": "fcbafd75",
   "metadata": {
    "slideshow": {
     "slide_type": "slide"
    }
   },
   "source": [
    "### Setting break points\n",
    "\n",
    "* We use the `break` command to define a break point and the debugger will stop at this point and we can display the  values of pointers and varibales.   \n",
    "\n",
    "    * break [function name]\n",
    "    * break [file name]:[line number]"
   ]
  },
  {
   "cell_type": "markdown",
   "id": "95263bd3",
   "metadata": {
    "slideshow": {
     "slide_type": "subslide"
    }
   },
   "source": [
    "```cpp\n",
    "#include <iostream>\n",
    "#include <stdlib.h>\n",
    "#include <string.h>\n",
    "using namespace std;\n",
    "  \n",
    "int findSquare(int a)\n",
    "{\n",
    "    return a * a;\n",
    "}\n",
    "  \n",
    "int main(int n, char** args)\n",
    "{\n",
    "    for (int i = 1; i < n; i++) \n",
    "    {\n",
    "        int a = atoi(args[i]);\n",
    "        cout << findSquare(a) << endl;\n",
    "    }\n",
    "    return 0;\n",
    "}\n",
    "```"
   ]
  },
  {
   "cell_type": "markdown",
   "id": "67979a72",
   "metadata": {
    "slideshow": {
     "slide_type": "subslide"
    }
   },
   "source": [
    "#### Setting break points\n",
    "```bash\n",
    "(gdb) break findSquare\n",
    "Breakpoint 1 at 0x40118d: file main_debug.cc, line 8.\n",
    "(gdb) break main_debug.cc:15\n",
    "Breakpoint 2 at 0x4011b3: file main_debug.cc, line 15.\n",
    "```"
   ]
  },
  {
   "cell_type": "markdown",
   "id": "c4419bae",
   "metadata": {
    "slideshow": {
     "slide_type": "slide"
    }
   },
   "source": [
    "### Running the code with break points\n",
    "\n",
    "```bash\n",
    "(gdb) run 3\n",
    "Starting program: /home/diehlpk/debug_example 3\n",
    "warning: Error disabling address space randomization: Operation not permitted\n",
    "\n",
    "Breakpoint 2, main (n=2, args=0x7ffd286b5b28) at main_debug.cc:15\n",
    "15              int a = atoi(args[i]);\n",
    "```"
   ]
  },
  {
   "cell_type": "markdown",
   "id": "9024caa0",
   "metadata": {
    "slideshow": {
     "slide_type": "subslide"
    }
   },
   "source": [
    "#### Moving to the next break point\n",
    "\n",
    "* To move to the next break point, we use the `continue` command\n",
    "\n",
    "```bash\n",
    "(gdb) continue\n",
    "Continuing.\n",
    "\n",
    "Breakpoint 1, findSquare (a=3) at main_debug.cc:8\n",
    "8           return a * a;\n",
    "(gdb) continue\n",
    "Continuing.\n",
    "9\n",
    "[Inferior 1 (process 4547) exited normally]\n",
    "```\n",
    "\n",
    "Here, we see that `a = 3` whch is good since we provided `run 3` and the command line argument was corretly passed."
   ]
  },
  {
   "cell_type": "markdown",
   "id": "67d4d9c9",
   "metadata": {
    "slideshow": {
     "slide_type": "subslide"
    }
   },
   "source": [
    "#### Deleting break points\n",
    "\n",
    "* We can delete any break point with the `delete` command:\n",
    "    * `delete` - Will delete all break points\n",
    "    * `delete [break point number 1]` - Will delete onlt this on break point \n",
    "    \n",
    "```bash\n",
    "(gdb) delete 2\n",
    "(gdb) run 3\n",
    "Starting program: /home/diehlpk/debug_example 3\n",
    "warning: Error disabling address space randomization: Operation not permitted\n",
    "\n",
    "Breakpoint 1, findSquare (a=3) at main_debug.cc:8\n",
    "8           return a * a;\n",
    "(gdb) continue\n",
    "Continuing.\n",
    "9\n",
    "[Inferior 1 (process 4560) exited normally]\n",
    "```"
   ]
  },
  {
   "cell_type": "markdown",
   "id": "36517f54",
   "metadata": {
    "slideshow": {
     "slide_type": "slide"
    }
   },
   "source": [
    "### Watching variables\n",
    "\n",
    "* `(gdb) watch a` - Will interupt the code and print the new and old value of `a`. \n",
    "* `(gdb) print a` - WIll print the value of `a`.\n",
    "\n",
    "```bash\n",
    "(gdb) print a\n",
    "$2 = 3\n",
    "(gdb\n",
    "```"
   ]
  },
  {
   "cell_type": "markdown",
   "id": "26ed4219",
   "metadata": {
    "slideshow": {
     "slide_type": "slide"
    }
   },
   "source": [
    "![alt text](http://s2.quickmeme.com/img/4a/4a74f611fce72154ebc9950a5f0047a29e4e27d5b9e5d0cd4952cdb6786329c9.jpg \"Title\")\n",
    "\n"
   ]
  },
  {
   "cell_type": "markdown",
   "id": "ff87c933",
   "metadata": {
    "slideshow": {
     "slide_type": "slide"
    }
   },
   "source": [
    "### Handling segmentation faults\n",
    "\n",
    "Let us look into some code with some segmentaiton fault:"
   ]
  },
  {
   "cell_type": "code",
   "execution_count": 3,
   "id": "6a4a13a3",
   "metadata": {
    "slideshow": {
     "slide_type": "fragment"
    }
   },
   "outputs": [
    {
     "name": "stderr",
     "output_type": "stream",
     "text": [
      "bash: line 3: 30743 Segmentation fault      (core dumped) ./segfault\n"
     ]
    },
    {
     "ename": "CalledProcessError",
     "evalue": "Command 'b'\\ng++ main_debug_segfault.cc -o segfault\\n./segfault\\n'' returned non-zero exit status 139.",
     "output_type": "error",
     "traceback": [
      "\u001b[0;31m---------------------------------------------------------------------------\u001b[0m",
      "\u001b[0;31mCalledProcessError\u001b[0m                        Traceback (most recent call last)",
      "\u001b[0;32m<ipython-input-3-7d0121bfa463>\u001b[0m in \u001b[0;36m<module>\u001b[0;34m\u001b[0m\n\u001b[0;32m----> 1\u001b[0;31m \u001b[0mget_ipython\u001b[0m\u001b[0;34m(\u001b[0m\u001b[0;34m)\u001b[0m\u001b[0;34m.\u001b[0m\u001b[0mrun_cell_magic\u001b[0m\u001b[0;34m(\u001b[0m\u001b[0;34m'bash'\u001b[0m\u001b[0;34m,\u001b[0m \u001b[0;34m''\u001b[0m\u001b[0;34m,\u001b[0m \u001b[0;34m'\\ng++ main_debug_segfault.cc -o segfault\\n./segfault\\n'\u001b[0m\u001b[0;34m)\u001b[0m\u001b[0;34m\u001b[0m\u001b[0;34m\u001b[0m\u001b[0m\n\u001b[0m",
      "\u001b[0;32m/usr/lib/python3.10/site-packages/IPython/core/interactiveshell.py\u001b[0m in \u001b[0;36mrun_cell_magic\u001b[0;34m(self, magic_name, line, cell)\u001b[0m\n\u001b[1;32m   2401\u001b[0m             \u001b[0;32mwith\u001b[0m \u001b[0mself\u001b[0m\u001b[0;34m.\u001b[0m\u001b[0mbuiltin_trap\u001b[0m\u001b[0;34m:\u001b[0m\u001b[0;34m\u001b[0m\u001b[0;34m\u001b[0m\u001b[0m\n\u001b[1;32m   2402\u001b[0m                 \u001b[0margs\u001b[0m \u001b[0;34m=\u001b[0m \u001b[0;34m(\u001b[0m\u001b[0mmagic_arg_s\u001b[0m\u001b[0;34m,\u001b[0m \u001b[0mcell\u001b[0m\u001b[0;34m)\u001b[0m\u001b[0;34m\u001b[0m\u001b[0;34m\u001b[0m\u001b[0m\n\u001b[0;32m-> 2403\u001b[0;31m                 \u001b[0mresult\u001b[0m \u001b[0;34m=\u001b[0m \u001b[0mfn\u001b[0m\u001b[0;34m(\u001b[0m\u001b[0;34m*\u001b[0m\u001b[0margs\u001b[0m\u001b[0;34m,\u001b[0m \u001b[0;34m**\u001b[0m\u001b[0mkwargs\u001b[0m\u001b[0;34m)\u001b[0m\u001b[0;34m\u001b[0m\u001b[0;34m\u001b[0m\u001b[0m\n\u001b[0m\u001b[1;32m   2404\u001b[0m             \u001b[0;32mreturn\u001b[0m \u001b[0mresult\u001b[0m\u001b[0;34m\u001b[0m\u001b[0;34m\u001b[0m\u001b[0m\n\u001b[1;32m   2405\u001b[0m \u001b[0;34m\u001b[0m\u001b[0m\n",
      "\u001b[0;32m/usr/lib/python3.10/site-packages/IPython/core/magics/script.py\u001b[0m in \u001b[0;36mnamed_script_magic\u001b[0;34m(line, cell)\u001b[0m\n\u001b[1;32m    140\u001b[0m             \u001b[0;32melse\u001b[0m\u001b[0;34m:\u001b[0m\u001b[0;34m\u001b[0m\u001b[0;34m\u001b[0m\u001b[0m\n\u001b[1;32m    141\u001b[0m                 \u001b[0mline\u001b[0m \u001b[0;34m=\u001b[0m \u001b[0mscript\u001b[0m\u001b[0;34m\u001b[0m\u001b[0;34m\u001b[0m\u001b[0m\n\u001b[0;32m--> 142\u001b[0;31m             \u001b[0;32mreturn\u001b[0m \u001b[0mself\u001b[0m\u001b[0;34m.\u001b[0m\u001b[0mshebang\u001b[0m\u001b[0;34m(\u001b[0m\u001b[0mline\u001b[0m\u001b[0;34m,\u001b[0m \u001b[0mcell\u001b[0m\u001b[0;34m)\u001b[0m\u001b[0;34m\u001b[0m\u001b[0;34m\u001b[0m\u001b[0m\n\u001b[0m\u001b[1;32m    143\u001b[0m \u001b[0;34m\u001b[0m\u001b[0m\n\u001b[1;32m    144\u001b[0m         \u001b[0;31m# write a basic docstring:\u001b[0m\u001b[0;34m\u001b[0m\u001b[0;34m\u001b[0m\u001b[0m\n",
      "\u001b[0;32m/usr/lib/python3.10/site-packages/decorator.py\u001b[0m in \u001b[0;36mfun\u001b[0;34m(*args, **kw)\u001b[0m\n\u001b[1;32m    230\u001b[0m             \u001b[0;32mif\u001b[0m \u001b[0;32mnot\u001b[0m \u001b[0mkwsyntax\u001b[0m\u001b[0;34m:\u001b[0m\u001b[0;34m\u001b[0m\u001b[0;34m\u001b[0m\u001b[0m\n\u001b[1;32m    231\u001b[0m                 \u001b[0margs\u001b[0m\u001b[0;34m,\u001b[0m \u001b[0mkw\u001b[0m \u001b[0;34m=\u001b[0m \u001b[0mfix\u001b[0m\u001b[0;34m(\u001b[0m\u001b[0margs\u001b[0m\u001b[0;34m,\u001b[0m \u001b[0mkw\u001b[0m\u001b[0;34m,\u001b[0m \u001b[0msig\u001b[0m\u001b[0;34m)\u001b[0m\u001b[0;34m\u001b[0m\u001b[0;34m\u001b[0m\u001b[0m\n\u001b[0;32m--> 232\u001b[0;31m             \u001b[0;32mreturn\u001b[0m \u001b[0mcaller\u001b[0m\u001b[0;34m(\u001b[0m\u001b[0mfunc\u001b[0m\u001b[0;34m,\u001b[0m \u001b[0;34m*\u001b[0m\u001b[0;34m(\u001b[0m\u001b[0mextras\u001b[0m \u001b[0;34m+\u001b[0m \u001b[0margs\u001b[0m\u001b[0;34m)\u001b[0m\u001b[0;34m,\u001b[0m \u001b[0;34m**\u001b[0m\u001b[0mkw\u001b[0m\u001b[0;34m)\u001b[0m\u001b[0;34m\u001b[0m\u001b[0;34m\u001b[0m\u001b[0m\n\u001b[0m\u001b[1;32m    233\u001b[0m     \u001b[0mfun\u001b[0m\u001b[0;34m.\u001b[0m\u001b[0m__name__\u001b[0m \u001b[0;34m=\u001b[0m \u001b[0mfunc\u001b[0m\u001b[0;34m.\u001b[0m\u001b[0m__name__\u001b[0m\u001b[0;34m\u001b[0m\u001b[0;34m\u001b[0m\u001b[0m\n\u001b[1;32m    234\u001b[0m     \u001b[0mfun\u001b[0m\u001b[0;34m.\u001b[0m\u001b[0m__doc__\u001b[0m \u001b[0;34m=\u001b[0m \u001b[0mfunc\u001b[0m\u001b[0;34m.\u001b[0m\u001b[0m__doc__\u001b[0m\u001b[0;34m\u001b[0m\u001b[0;34m\u001b[0m\u001b[0m\n",
      "\u001b[0;32m/usr/lib/python3.10/site-packages/IPython/core/magic.py\u001b[0m in \u001b[0;36m<lambda>\u001b[0;34m(f, *a, **k)\u001b[0m\n\u001b[1;32m    185\u001b[0m     \u001b[0;31m# but it's overkill for just that one bit of state.\u001b[0m\u001b[0;34m\u001b[0m\u001b[0;34m\u001b[0m\u001b[0m\n\u001b[1;32m    186\u001b[0m     \u001b[0;32mdef\u001b[0m \u001b[0mmagic_deco\u001b[0m\u001b[0;34m(\u001b[0m\u001b[0marg\u001b[0m\u001b[0;34m)\u001b[0m\u001b[0;34m:\u001b[0m\u001b[0;34m\u001b[0m\u001b[0;34m\u001b[0m\u001b[0m\n\u001b[0;32m--> 187\u001b[0;31m         \u001b[0mcall\u001b[0m \u001b[0;34m=\u001b[0m \u001b[0;32mlambda\u001b[0m \u001b[0mf\u001b[0m\u001b[0;34m,\u001b[0m \u001b[0;34m*\u001b[0m\u001b[0ma\u001b[0m\u001b[0;34m,\u001b[0m \u001b[0;34m**\u001b[0m\u001b[0mk\u001b[0m\u001b[0;34m:\u001b[0m \u001b[0mf\u001b[0m\u001b[0;34m(\u001b[0m\u001b[0;34m*\u001b[0m\u001b[0ma\u001b[0m\u001b[0;34m,\u001b[0m \u001b[0;34m**\u001b[0m\u001b[0mk\u001b[0m\u001b[0;34m)\u001b[0m\u001b[0;34m\u001b[0m\u001b[0;34m\u001b[0m\u001b[0m\n\u001b[0m\u001b[1;32m    188\u001b[0m \u001b[0;34m\u001b[0m\u001b[0m\n\u001b[1;32m    189\u001b[0m         \u001b[0;32mif\u001b[0m \u001b[0mcallable\u001b[0m\u001b[0;34m(\u001b[0m\u001b[0marg\u001b[0m\u001b[0;34m)\u001b[0m\u001b[0;34m:\u001b[0m\u001b[0;34m\u001b[0m\u001b[0;34m\u001b[0m\u001b[0m\n",
      "\u001b[0;32m/usr/lib/python3.10/site-packages/IPython/core/magics/script.py\u001b[0m in \u001b[0;36mshebang\u001b[0;34m(self, line, cell)\u001b[0m\n\u001b[1;32m    243\u001b[0m             \u001b[0msys\u001b[0m\u001b[0;34m.\u001b[0m\u001b[0mstderr\u001b[0m\u001b[0;34m.\u001b[0m\u001b[0mflush\u001b[0m\u001b[0;34m(\u001b[0m\u001b[0;34m)\u001b[0m\u001b[0;34m\u001b[0m\u001b[0;34m\u001b[0m\u001b[0m\n\u001b[1;32m    244\u001b[0m         \u001b[0;32mif\u001b[0m \u001b[0margs\u001b[0m\u001b[0;34m.\u001b[0m\u001b[0mraise_error\u001b[0m \u001b[0;32mand\u001b[0m \u001b[0mp\u001b[0m\u001b[0;34m.\u001b[0m\u001b[0mreturncode\u001b[0m\u001b[0;34m!=\u001b[0m\u001b[0;36m0\u001b[0m\u001b[0;34m:\u001b[0m\u001b[0;34m\u001b[0m\u001b[0;34m\u001b[0m\u001b[0m\n\u001b[0;32m--> 245\u001b[0;31m             \u001b[0;32mraise\u001b[0m \u001b[0mCalledProcessError\u001b[0m\u001b[0;34m(\u001b[0m\u001b[0mp\u001b[0m\u001b[0;34m.\u001b[0m\u001b[0mreturncode\u001b[0m\u001b[0;34m,\u001b[0m \u001b[0mcell\u001b[0m\u001b[0;34m,\u001b[0m \u001b[0moutput\u001b[0m\u001b[0;34m=\u001b[0m\u001b[0mout\u001b[0m\u001b[0;34m,\u001b[0m \u001b[0mstderr\u001b[0m\u001b[0;34m=\u001b[0m\u001b[0merr\u001b[0m\u001b[0;34m)\u001b[0m\u001b[0;34m\u001b[0m\u001b[0;34m\u001b[0m\u001b[0m\n\u001b[0m\u001b[1;32m    246\u001b[0m \u001b[0;34m\u001b[0m\u001b[0m\n\u001b[1;32m    247\u001b[0m     \u001b[0;32mdef\u001b[0m \u001b[0m_run_script\u001b[0m\u001b[0;34m(\u001b[0m\u001b[0mself\u001b[0m\u001b[0;34m,\u001b[0m \u001b[0mp\u001b[0m\u001b[0;34m,\u001b[0m \u001b[0mcell\u001b[0m\u001b[0;34m,\u001b[0m \u001b[0mto_close\u001b[0m\u001b[0;34m)\u001b[0m\u001b[0;34m:\u001b[0m\u001b[0;34m\u001b[0m\u001b[0;34m\u001b[0m\u001b[0m\n",
      "\u001b[0;31mCalledProcessError\u001b[0m: Command 'b'\\ng++ main_debug_segfault.cc -o segfault\\n./segfault\\n'' returned non-zero exit status 139."
     ]
    }
   ],
   "source": [
    "%%bash \n",
    "\n",
    "g++ main_debug_segfault.cc -o segfault\n",
    "./segfault"
   ]
  },
  {
   "cell_type": "markdown",
   "id": "fa6f0684",
   "metadata": {
    "slideshow": {
     "slide_type": "subslide"
    }
   },
   "source": [
    "Let us use gdb to find the segfault in the code\n",
    "\n",
    "```bash\n",
    "gdb segfault\n",
    "GNU gdb (GDB) Fedora 9.1-7.fc32\n",
    "Copyright (C) 2020 Free Software Foundation, Inc.\n",
    "(gdb) run\n",
    "Starting program: /home/diehlpk/segfault\n",
    "warning: Error disabling address space randomization: Operation not permitted\n",
    "Missing separate debuginfos, use: dnf debuginfo-install glibc-2.31-6.fc32.x86_64\n",
    "Program received signal SIGSEGV, Segmentation fault.\n",
    "0x0000000000401191 in main ()\n",
    "Missing separate debuginfos, use: dnf debuginfo-install libgcc-10.3.1-1.fc32.x86_64 libstdc++-10.3.1-1.fc32.x86_64\n",
    "(gdb)\n",
    "```\n",
    "\n",
    "That is not really a helpful message, since we already know that the program fails."
   ]
  },
  {
   "cell_type": "markdown",
   "id": "98dffdc2",
   "metadata": {
    "slideshow": {
     "slide_type": "subslide"
    }
   },
   "source": [
    "#### Getting a more detailed error message\n",
    "\n",
    "We need to compile the code using `-g` to get more details"
   ]
  },
  {
   "cell_type": "code",
   "execution_count": null,
   "id": "f42a1d71",
   "metadata": {
    "slideshow": {
     "slide_type": "fragment"
    }
   },
   "outputs": [],
   "source": [
    "%%bash \n",
    "g++ -g main_debug_segfault.cc -o segfault\n"
   ]
  },
  {
   "cell_type": "markdown",
   "id": "c3344282",
   "metadata": {
    "slideshow": {
     "slide_type": "fragment"
    }
   },
   "source": [
    "```bash\n",
    "gdb segfault\n",
    "GNU gdb (GDB) Fedora 9.1-7.fc32\n",
    "Copyright (C) 2020 Free Software Foundation, Inc.\n",
    "(gdb) run\n",
    "Starting program: /home/diehlpk/segfault\n",
    "warning: Error disabling address space randomization: Operation not permitted\n",
    "Missing separate debuginfos, use: dnf debuginfo-install glibc-2.31-6.fc32.x86_64\n",
    "\n",
    "Program received signal SIGSEGV, Segmentation fault.\n",
    "0x0000000000401191 in main (n=1, args=0x7ffc72343818) at main_debug_segfault.cc:8\n",
    "8           std::cout << *pointer << std::endl;\n",
    "Missing separate debuginfos, use: dnf debuginfo-install libgcc-10.3.1-1.fc32.x86_64 libstdc++-10.3.1-1.fc32.x86_64\n",
    "```"
   ]
  },
  {
   "cell_type": "markdown",
   "id": "1b7265cc",
   "metadata": {
    "slideshow": {
     "slide_type": "slide"
    }
   },
   "source": [
    "Now we get the line number and the piece of code which is causing the segfault.\n",
    "\n",
    "```bash \n",
    "(gdb) run\n",
    "Starting program: /home/diehlpk/segfault\n",
    "warning: Error disabling address space randomization: Operation not permitted\n",
    "Missing separate debuginfos, use: dnf debuginfo-install glibc-2.31-6.fc32.x86_64\n",
    "\n",
    "Program received signal SIGSEGV, Segmentation fault.\n",
    "0x0000000000401191 in main (n=1, args=0x7ffc72343818) at main_debug_segfault.cc:8\n",
    "8           std::cout << *pointer << std::endl;\n",
    "Missing separate debuginfos, use: dnf debuginfo-install libgcc-10.3.1-1.fc32.x86_64 libstdc++-10.3.1-1.fc32.x86_64\n",
    "(gdb) print pointer\n",
    "$1 = (double *) 0x0\n",
    "```\n",
    "\n",
    "Now we can check the pointer and see that the pointer has the value `0x0` which is a `nullptr` and we have not allocated memory.\n"
   ]
  },
  {
   "cell_type": "markdown",
   "id": "ed6370ae",
   "metadata": {
    "slideshow": {
     "slide_type": "slide"
    }
   },
   "source": [
    "Let us have a look at the code:\n",
    "\n",
    "```cpp\n",
    "#include <iostream>\n",
    "using namespace std;\n",
    "\n",
    "\n",
    "int main(int n, char** args)\n",
    "{\n",
    "    double * pointer = nullptr;\n",
    "    std::cout << *pointer << std::endl;\n",
    "     return 0;\n",
    "}\n",
    "```\n",
    "\n",
    "Can you see why we have the segfault in the code?"
   ]
  },
  {
   "cell_type": "markdown",
   "id": "d603417f",
   "metadata": {
    "slideshow": {
     "slide_type": "slide"
    }
   },
   "source": [
    "This is the correct version of the code after debugging:\n",
    "\n",
    "```cpp\n",
    "#include <iostream>\n",
    "using namespace std;\n",
    "\n",
    "\n",
    "int main(int n, char** args)\n",
    "{\n",
    "    double * pointer = 2;\n",
    "    std::cout << *pointer << std::endl;\n",
    "     return 0;\n",
    "}\n",
    "```\n",
    "\n",
    "Can you see why we have the segfault in the code?"
   ]
  },
  {
   "cell_type": "markdown",
   "id": "882a1c68",
   "metadata": {
    "slideshow": {
     "slide_type": "slide"
    }
   },
   "source": [
    "\n",
    "![alt text](https://miro.medium.com/max/1200/1*T_eyoFLyq8U9YEE0_hfzJA.jpeg \"Title\")\n",
    "\n",
    "\n"
   ]
  },
  {
   "cell_type": "markdown",
   "id": "527dbc7d",
   "metadata": {
    "slideshow": {
     "slide_type": "slide"
    }
   },
   "source": [
    "## Checking memory usage using valgrind\n",
    "\n",
    "Valgrind can help with the following:\n",
    "\n",
    "- Find non initlized memory\n",
    "- Check if the memory was allocated and free using the same methods. e.g. `delete` and `delete[]`.\n",
    "- Check if all allocated memory was free before exiting the code.\n",
    "- Check if we write into memory which is not part of the pointer\n"
   ]
  },
  {
   "cell_type": "markdown",
   "id": "2f2898e6",
   "metadata": {
    "slideshow": {
     "slide_type": "fragment"
    }
   },
   "source": [
    "### Using memcheck\n",
    "\n",
    "To detect the previous segfault, we could use the `memcheck` tool which is part of `valgrind`\n",
    "\n",
    "* `valgrind  ./segfault` will enable the memory check \n",
    "\n"
   ]
  },
  {
   "cell_type": "markdown",
   "id": "1c012941",
   "metadata": {
    "slideshow": {
     "slide_type": "subslide"
    }
   },
   "source": [
    "```bash\n",
    "valgrind --tool=memcheck ./segfault\n",
    "==24842== Memcheck, a memory error detector\n",
    "==24842== Copyright (C) 2002-2017, and GNU GPL'd, by Julian Seward et al.\n",
    "==24842== Using Valgrind-3.18.1 and LibVEX; rerun with -h for copyright info\n",
    "==24842== Command: ./segfault\n",
    "==24842== \n",
    "==24842== Invalid read of size 8\n",
    "==24842==    at 0x401191: main (code.cc:8)\n",
    "==24842==  Address 0x0 is not stack'd, malloc'd or (recently) free'd\n",
    "```"
   ]
  },
  {
   "cell_type": "markdown",
   "id": "fb159609",
   "metadata": {
    "slideshow": {
     "slide_type": "slide"
    }
   },
   "source": [
    "#### Checking if all memory is cleaned correclty\n",
    "\n",
    "```bash\n",
    " valgrind --tool=memcheck ./segfault2\n",
    "==25418== Memcheck, a memory error detector\n",
    "==25418== Copyright (C) 2002-2017, and GNU GPL'd, by Julian Seward et al.\n",
    "==25418== Using Valgrind-3.18.1 and LibVEX; rerun with -h for copyright info\n",
    "==25418== Command: ./segfault2\n",
    "==25418== \n",
    "2\n",
    "==25418== Mismatched free() / delete / delete []\n",
    "==25418==    at 0x484565B: operator delete[](void*) (vg_replace_malloc.c:1103)\n",
    "==25418==    by 0x4011F4: main (code2.cc:9)\n",
    "==25418==  Address 0x4db2c80 is 0 bytes inside a block of size 8 alloc'd\n",
    "==25418==    at 0x4841FF5: operator new(unsigned long) (vg_replace_malloc.c:422)\n",
    "==25418==    by 0x4011AE: main (code2.cc:7)\n",
    "```"
   ]
  },
  {
   "cell_type": "markdown",
   "id": "7930188f",
   "metadata": {
    "slideshow": {
     "slide_type": "slide"
    }
   },
   "source": [
    "Looking at the code:\n",
    "\n",
    "```cpp\n",
    "#include <iostream>\n",
    "\n",
    "int main(int n, char** args)\n",
    "{\n",
    "    double * pointer = new double(2);\n",
    "    std::cout << *pointer << std::endl;\n",
    "    delete [] pointer;\n",
    "    return 0;\n",
    "}\n",
    "```\n"
   ]
  },
  {
   "cell_type": "markdown",
   "id": "3fe6870d",
   "metadata": {
    "slideshow": {
     "slide_type": "slide"
    }
   },
   "source": [
    "#### Checking if we only access allocated memory\n",
    "\n",
    "```bash\n",
    "valgrind  ./index\n",
    "==28728== Memcheck, a memory error detector\n",
    "==28728== Copyright (C) 2002-2017, and GNU GPL'd, by Julian Seward et al.\n",
    "==28728== Using Valgrind-3.18.1 and LibVEX; rerun with -h for copyright info\n",
    "==28728== Command: ./index\n",
    "==28728== \n",
    "==28728== Invalid read of size 8\n",
    "==28728==    at 0x4011AB: main (code3.cc:7)\n",
    "==28728==  Address 0x4db2cb0 is 8 bytes after a block of size 40 alloc'd\n",
    "==28728==    at 0x484322F: operator new[](unsigned long) (vg_replace_malloc.c:640)\n",
    "==28728==    by 0x40119E: main (code3.cc:6)\n",
    "```"
   ]
  },
  {
   "cell_type": "markdown",
   "id": "e3cb67b6",
   "metadata": {
    "slideshow": {
     "slide_type": "slide"
    }
   },
   "source": [
    "Let us look at the code:\n",
    "\n",
    "```cpp\n",
    "#include <iostream>\n",
    "\n",
    "int main(int n, char** args)\n",
    "{\n",
    "    double * pointer = new double[5];\n",
    "    std::cout << pointer[6] << std::endl;\n",
    "    return 0;\n",
    "}\n",
    "```"
   ]
  },
  {
   "cell_type": "markdown",
   "id": "3f518b53",
   "metadata": {
    "slideshow": {
     "slide_type": "slide"
    }
   },
   "source": [
    "#### Checking if allocated memory is relased after the program finished"
   ]
  },
  {
   "cell_type": "markdown",
   "id": "e3d619f4",
   "metadata": {
    "slideshow": {
     "slide_type": "slide"
    }
   },
   "source": [
    "\n",
    "![alt text](https://media.makeameme.org/created/debugger-for-the.jpg \"Title\")\n"
   ]
  }
 ],
 "metadata": {
  "celltoolbar": "Slideshow",
  "kernelspec": {
   "display_name": "Python 3",
   "language": "python",
   "name": "python3"
  },
  "language_info": {
   "codemirror_mode": {
    "name": "ipython",
    "version": 3
   },
   "file_extension": ".py",
   "mimetype": "text/x-python",
   "name": "python",
   "nbconvert_exporter": "python",
   "pygments_lexer": "ipython3",
   "version": "3.10.0"
  }
 },
 "nbformat": 4,
 "nbformat_minor": 5
}
